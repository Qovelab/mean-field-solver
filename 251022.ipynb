{
 "cells": [
  {
   "cell_type": "code",
   "execution_count": 54,
   "id": "df54ca88-6060-4356-9cdf-32e494bc024d",
   "metadata": {},
   "outputs": [],
   "source": [
    "from qutip import *\n",
    "import numpy as np\n",
    "from time import process_time\n",
    "import matplotlib.pyplot as plt\n",
    "import psutil\n",
    "\n",
    "from scipy import signal\n",
    "\n",
    "from IPython.display import display, clear_output"
   ]
  },
  {
   "cell_type": "code",
   "execution_count": 55,
   "id": "cb29a07d-3030-4010-b90f-f9ca348d46e7",
   "metadata": {},
   "outputs": [],
   "source": [
    "def gauss(x, x_0, sigma):\n",
    "    return 1*np.exp(-((x-x_0) / sigma) ** 2)"
   ]
  },
  {
   "cell_type": "code",
   "execution_count": 56,
   "id": "228d1508-2187-465c-88ac-e3de4e58f85d",
   "metadata": {},
   "outputs": [],
   "source": [
    "pi = np.pi"
   ]
  },
  {
   "cell_type": "code",
   "execution_count": 124,
   "id": "64f3a4c0-af0b-4069-83d6-c4fd5f8f9508",
   "metadata": {},
   "outputs": [],
   "source": [
    "# Model description\n",
    "# Units in kHz\n",
    "# /2pi\n",
    "\n",
    "gk = 1.6 #kHz Coupling strength\n",
    "kappa = 160. #kHz Cavity linewidth\n",
    "gamma = 2000.\n",
    "Gamma = 0. # Dephasing\n",
    "\n",
    "Ne = 1e6 # Total number of emitters\n",
    "N = 20 # Fock states\n",
    "k = 20 # Number of frequency classes\n",
    "delta_c = 0. # wc-wp\n",
    "sigma_c = 10.*kappa # Broadening STD\n",
    "\n",
    "Delta_max = 5.*sigma_c\n",
    "delta_a = np.linspace(-Delta_max, Delta_max, k)\n",
    "norm = np.sum(gauss(delta_a, 0, sigma_c))\n",
    "ki = gauss(delta_a, delta_c, sigma_c)/norm*Ne #Population in each class \n",
    "\n",
    "# Square pulse\n",
    "dt = 1/10.*1/gamma\n",
    "endtime = .5\n",
    "intervals = int(endtime/dt)\n",
    "tlist = np.linspace(0, endtime, intervals)\n",
    "tprep = 0.064*endtime #us\n",
    "F = 0 #kHz\n",
    "Ft = (signal.square(tlist, tprep)/2+0.5)*F\n",
    "# Ft = np.zeros(intervals)"
   ]
  },
  {
   "cell_type": "code",
   "execution_count": 125,
   "id": "3dc70e1c-3556-4d72-8712-2e306e6c57ab",
   "metadata": {},
   "outputs": [
    {
     "data": {
      "text/plain": [
       "array([4.12391225e-06, 6.03624232e-04, 5.07712148e-02, 2.45392951e+00,\n",
       "       6.81553967e+01, 1.08775742e+03, 9.97602435e+03, 5.25746735e+04,\n",
       "       1.59216952e+05, 2.77073932e+05, 2.77073932e+05, 1.59216952e+05,\n",
       "       5.25746735e+04, 9.97602435e+03, 1.08775742e+03, 6.81553967e+01,\n",
       "       2.45392951e+00, 5.07712148e-02, 6.03624232e-04, 4.12391225e-06])"
      ]
     },
     "execution_count": 125,
     "metadata": {},
     "output_type": "execute_result"
    },
    {
     "data": {
      "image/png": "[encoded data removed]",
      "text/plain": [
       "<Figure size 432x288 with 1 Axes>"
      ]
     },
     "metadata": {
      "needs_background": "light"
     },
     "output_type": "display_data"
    }
   ],
   "source": [
    "plt.plot(tlist,Ft)\n",
    "ki"
   ]
  },
  {
   "cell_type": "markdown",
   "id": "c97fa5f2-cb9b-4818-8ac0-ff49434ef46e",
   "metadata": {},
   "source": [
    "Consider that all the spins start in the same state, we only need to calculate the expectation values for one spin and the cavity"
   ]
  },
  {
   "cell_type": "code",
   "execution_count": 126,
   "id": "141809bf-15d2-43aa-ac4c-3350bdbc14c9",
   "metadata": {},
   "outputs": [],
   "source": [
    "psi0_cav = basis(N, 0) # Cavity initialized in vacuum\n",
    "psi0_spin = basis(2, 0) # Spins initialized in excited state"
   ]
  },
  {
   "cell_type": "markdown",
   "id": "0fd65a29-5df0-4880-8b9c-1f0c524f9858",
   "metadata": {
    "tags": []
   },
   "source": [
    "# Initialize the Matrices required for Debnath2019"
   ]
  },
  {
   "cell_type": "markdown",
   "id": "ae2745fc-7a9b-430e-8584-a2f32e9b302d",
   "metadata": {},
   "source": [
    "# Time propagation"
   ]
  },
  {
   "cell_type": "code",
   "execution_count": 127,
   "id": "6a4ca2b7-8073-40a4-a814-1830d6f3859c",
   "metadata": {},
   "outputs": [],
   "source": [
    "def da(a, dt, sm, Ft, N):\n",
    "    a += (-1j*w_cav*a - gk*1j*np.sum(N*sm) - 1j*Ft)*dt\n",
    "    return a\n",
    "    \n",
    "def da2(a2, dt, N, a_sm, a_sp, a, Ft):\n",
    "    a2 += (-2j*w_cav*a2-2j*gk*np.sum(N*(a_sm + a_sp)) - 2j*Ft*a)*dt\n",
    "    return a2\n",
    "\n",
    "def dada(ada, dt, a_sp, Ft, a, N):\n",
    "    ada += (-2*gk*np.sum(N*a_sp)-2j*Ft*np.imag(a)-kappa*ada)*dt\n",
    "    return ada\n",
    "\n",
    "def dsm(sm, dt, w_spin, a_sz):\n",
    "    sm += (-1j*w_spin + 1j*a_sz*gk)*dt\n",
    "    return sm\n",
    "\n",
    "def dsz(sz, dt, a_sp):\n",
    "    sz += (4*gk*np.imag(a_sp) - gamma*(1+sz))*dt\n",
    "    return sz\n",
    "\n",
    "def da_sz(a_sz, dt, sz, N, sm_sz_s, sz_sm_d, a2, a_sp, a, sp, ada, a_sm, sm, Ft):\n",
    "    a_sz += (-1j*w_spin*a_sz - 1j*gk*(sz + (N-1)*sm_sz_s) - \\\n",
    "            2j*gk*((a2*sp + 2*a*a_sp - 2*a**2*sp) - (a*np.conj(a_sp) + np.conj(a)*a_sm + (1+ada)*sm-2*np.abs(a)**2*sm))\\\n",
    "            - gamma*(a + a_sz) - 1j*Ft*sz - \\\n",
    "            1j*gk*np.sum(sz_sm_d*N[..., None], axis=0))*dt # Assuming that N is a row vector of size k\n",
    "    return a_sz\n",
    "\n",
    "def da_sm(a_sm, dt, sm_sm_d, N, sm_sm_s, a2, a, sz, a_sz, sm, Ft):\n",
    "    a_sm += (-1j*(w_spin+w_cav)*a_sm - 1j*gk*((N-1)*sm_sm_s - 2*a_sz*a - a2*sz\\\n",
    "            + 2*a**2*sz)-1j*Ft*sm -1j*gk*np.sum(sm_sm_d*N[..., None], axis=0))*dt\n",
    "    return a_sm\n",
    "\n",
    "def da_sp(a_sp, dt, sz, N, sm_sp_s, sp_sm_d, a, a_sz, ada, Ft, sp):\n",
    "    ad = np.conjugate(a)\n",
    "    a_sp += (1j*(np.conjugate(w_spin)-w_cav)*a_sp-.5j*gk*(1-sz)-1j*gk*(N-1)*sm_sp_s\\\n",
    "            -1j*np.sum(sp_sm_d*N[..., None], axis=0)-1j*gk*((1+ada)*sz + 2* np.real(a_sz*ad) -2*np.abs(a)**2*sz)\\\n",
    "            -1j*Ft*sp)*dt\n",
    "    return a_sp\n",
    "\n",
    "def dsm_sz_s(sm_sz_s, dt, a, sz, a_sz, sz_sz_s, a_sm, a_sp, sm_sp_s, sp, sm, sm_sm_s):\n",
    "    ad = np.conjugate(a)\n",
    "    sm_sz_s += (-1j*w_spin*sm_sz_s+1j*gk*(a*sz_sz_s+2*sz*a_sz-2*a*sz**2)-2j*gk\\\n",
    "    *(a_sm*sp+a_sp*sm+a*sm_sp_s-2*a*sm*sp-(ad*sm_sm_s+2*np.conjugate(a_sp)*sm\\\n",
    "    -2*ad*sm**2))-gamma*(sm+sz_sz_s))*dt\n",
    "    return sm_sz_s\n",
    "\n",
    "def dsm_sp_s(sm_sp_s, dt, a, sm_sz_s, a_sp, a_sz, sz, sm):\n",
    "    sm_sp_s += (2*np.imag(w_spin)*sm_sp_s + \\\n",
    "               2*gk*np.imag(sz*np.conjugate(a_sp)+\\\n",
    "                           np.conjugate(a)*sm_sz_s+sm*np.conjugate(a_sz)-\\\n",
    "                          2*np.conjugate(a)*sm*sz))*dt\n",
    "    return sm_sp_s\n",
    "\n",
    "def dsm_sm_s(sm_sm_s, dt, a_sm, a_sz, sm_sz_s, sm, sz, a):\n",
    "    sm_sm_s += (-2j*w_spin*sm_sm_s+2j*gk*(a*sm_sz_s+a_sm*sz+a_sz*sm-\\\n",
    "                2*a*sm*sz))*dt\n",
    "    return sm_sm_s\n",
    "\n",
    "def dsz_sz_s(sz_sz_s, dt, sm_sz_s, sz):\n",
    "    sz_sz_s += (8*gk*np.imag(np.conjugate(sm_sz_s)) - \\\n",
    "               2*gamma*(sz + sz_sz_s))*dt\n",
    "    return sz_sz_s\n",
    "\n",
    "def dsm_sm_d(sm_sm_d, dt, a, sz, sm, a_sz, a_sm, sz_sm_d):\n",
    "    N = np.size(w_spin)\n",
    "    w_spin_r = np.tile(w_spin, N).reshape(N, N)\n",
    "    w_spin_c = w_spin_r.T\n",
    "    a_sz_c = np.vstack(a_sz)\n",
    "    sm_c = np.vstack(sm)\n",
    "    a_sm_c = np.vstack(a_sm)\n",
    "    sz_c = np.vstack(sz)\n",
    "    \n",
    "    sm_sm_d += (-1j*(w_spin_r + w_spin_c)*sm_sm_d + \\\n",
    "               1j*gk*(a*sz_sm_d + sm_c*a_sz + sz*a_sm_c - 2*a*sz*sm_c)\\\n",
    "               +1j*gk*(a*sz_sm_d.T + sm*a_sz_c+sz_c*a_sm - 2*sm*sz_c))*dt\n",
    "    \n",
    "    np.fill_diagonal(sm_sm_d, 0)\n",
    "    \n",
    "    return sm_sm_d\n",
    "\n",
    "def dsz_sz_d(sz_sz_d, dt, a_sp, a_sz, sz_sm_d, a, sp, sz):\n",
    "    N = np.size(sz)\n",
    "    a_sz_c = np.vstack(a_sz)\n",
    "    a_sp_c = np.vstack(a_sp)\n",
    "    sp_c = np.vstack(sp)\n",
    "    sz_c = np.vstack(sz)\n",
    "    sz_mat_c = np.tile(sz_c, N)\n",
    "    sz_mat_r = np.tile(sz, N).reshape(N, N)\n",
    "    \n",
    "    sz_sz_d += (4*gk*np.imag(a*np.conjugate(sz_sm_d).T + \\\n",
    "                sp*a_sz_c + a_sp*sz_c - 2*a*sp*sz_c) + \\\n",
    "               4*gk*np.imag(a*np.conjugate(sz_sm_d) + \\\n",
    "                a_sz*sp_c + sz*a_sp_c - 2*a*sz*sp_c) -\n",
    "               gamma*(sz_mat_c + sz_mat_r + 2*sz_sz_d))*dt\n",
    "    np.fill_diagonal(sz_sz_d, 0)\n",
    "    return sz_sz_d\n",
    "\n",
    "def dsz_sm_d(sz_sm_d, dt, a_sz, sz_sz_d, sz, a, sp_sm_d, sp, sm, a_sp, a_sm, sm_sm_d):\n",
    "    ad = np.conjugate(a)\n",
    "    N = np.size(sm)\n",
    "    w_spin_c = np.vstack(w_spin)\n",
    "    sz_c = np.vstack(sz)\n",
    "    sm_c = np.vstack(sm)\n",
    "    a_sm_c = np.vstack(a_sm)\n",
    "    a_sz_c = np.vstack(a_sz)\n",
    "    ad_sm = np.conjugate(a_sp)\n",
    "    ad_sm_c = np.vstack(ad_sm)\n",
    "    sm_mat_c = np.tile(sm_c, N)\n",
    "    \n",
    "    sz_sm_d += (-1j*w_spin_c*sz_sm_d\\\n",
    "                + 1j*gk*(a*sz_sz_d + a_sz*sz_c + a_sz_c*sz\\\n",
    "               -2*a*sz*sz_c) - 2j*gk*((a*sp_sm_d + a_sp*sm_c + a_sm_c*sp - 2*a*sp*sm_c)\\\n",
    "               -(ad*sm_sm_d + ad_sm*sm_c + ad_sm_c*sm - 2*ad*sm*sm_c))\\\n",
    "               -gamma*(sm_mat_c + sz_sm_d))*dt\n",
    "    np.fill_diagonal(sz_sm_d, 0)\n",
    "    return sz_sm_d\n",
    "\n",
    "def dsp_sm_d(sp_sm_d, dt, sz_sm_d, a_sp, a_sz, sp, sz, sm, a):\n",
    "    ad = np.conjugate(a)\n",
    "    w_spin_c = np.vstack(w_spin)\n",
    "    sp_sz_d = np.conjugate(sz_sm_d).T\n",
    "    ad_sz = np.conjugate(a_sz)\n",
    "    ad_sm_c = np.conjugate(a_sp).T\n",
    "    sz_c = np.vstack(sz)\n",
    "    sm_c = np.vstack(sm)\n",
    "    a_sz_c = np.vstack(a_sz)\n",
    "    sp_sm_d += (-1j*(w_spin_c-np.conjugate(w_spin)*sp_sm_d+1j*gk*\\\n",
    "                (a*sp_sz_d)+a_sp*sz_c+a_sz_c*sz-2*a*sp*sz_c)-1j*gk*\\\n",
    "                (ad*sz_sm_d+ad_sz*sm_c+ad_sm_c*sz-2*ad*sz*sm_c))*dt\n",
    "    np.fill_diagonal(sp_sm_d,0)\n",
    "    return sp_sm_d"
   ]
  },
  {
   "cell_type": "code",
   "execution_count": 128,
   "id": "bcf47a1b-7746-4ccf-b515-2beae68b6e54",
   "metadata": {},
   "outputs": [],
   "source": [
    "w_spin = delta_a - 1j*(gamma/2. + Gamma)\n",
    "w_cav = delta_c - 1j*kappa/2.\n",
    "\n",
    "a_0 = 0. # Cavity initialized in vacuum\n",
    "a2_0 = 0.\n",
    "ada_0 = 0.\n",
    "\n",
    "sm_0 = np.zeros(k, dtype=np.cfloat) # Spins originally excited\n",
    "sp_0 = np.zeros(k, dtype=np.cfloat)\n",
    "sz_0 = np.ones(k, dtype=np.cfloat) \n",
    "\n",
    "a_sz_0 = np.zeros(k, dtype=np.cfloat) # Product of expectation value of a and sz\n",
    "a_sm_0 = np.zeros(k, dtype=np.cfloat)\n",
    "a_sp_0 = np.zeros(k, dtype=np.cfloat)\n",
    "\n",
    "sm_sz_s_0 = np.zeros(k, dtype=np.cfloat)\n",
    "sm_sp_s_0 = np.zeros(k, dtype=np.cfloat)\n",
    "sm_sm_s_0 = np.zeros(k, dtype=np.cfloat)\n",
    "sz_sz_s_0 = np.ones(k, dtype=np.cfloat)\n",
    "sm_sm_d_0 = np.zeros((k, k), dtype=np.cfloat)\n",
    "sz_sz_d_0 = np.ones((k, k), dtype=np.cfloat)\n",
    "np.fill_diagonal(sz_sz_d_0, 0)\n",
    "sz_sm_d_0 = np.zeros((k, k), dtype=np.cfloat)\n",
    "sp_sm_d_0 = np.zeros((k, k), dtype=np.cfloat)"
   ]
  },
  {
   "cell_type": "code",
   "execution_count": 129,
   "id": "eca42260-291e-4002-9585-637bd299e4d1",
   "metadata": {},
   "outputs": [
    {
     "data": {
      "text/plain": [
       "(1+0j)"
      ]
     },
     "execution_count": 129,
     "metadata": {},
     "output_type": "execute_result"
    }
   ],
   "source": [
    "gnd = np.asarray([0,1])\n",
    "gnd_c=gnd[..., None]\n",
    "np.inner(ex,sigmaz()*ex)"
   ]
  },
  {
   "cell_type": "code",
   "execution_count": 130,
   "id": "d3ab60f6-12b7-4196-aa6a-8d64bde5aa98",
   "metadata": {},
   "outputs": [
    {
     "data": {
      "text/plain": [
       "array([[1.+0.j, 0.+0.j],\n",
       "       [0.+0.j, 0.+0.j]])"
      ]
     },
     "execution_count": 130,
     "metadata": {},
     "output_type": "execute_result"
    }
   ],
   "source": [
    "ex_c = sigmap()*gnd_c\n",
    "ex = np.asarray([1,0])\n",
    "ex*sigmaz()*ex_c"
   ]
  },
  {
   "cell_type": "code",
   "execution_count": 134,
   "id": "dcc695d9-264c-4eea-9bfc-7c218bacce3a",
   "metadata": {
    "scrolled": true,
    "tags": []
   },
   "outputs": [
    {
     "data": {
      "text/plain": [
       "'Iteration 9999'"
      ]
     },
     "metadata": {},
     "output_type": "display_data"
    },
    {
     "name": "stdout",
     "output_type": "stream",
     "text": [
      "CPU times: user 21.3 s, sys: 3.92 s, total: 25.2 s\n",
      "Wall time: 26.1 s\n"
     ]
    }
   ],
   "source": [
    "%%time\n",
    "\n",
    "a_t = np.empty(intervals, dtype=np.cfloat)\n",
    "ada_t = np.empty(intervals, dtype=np.cfloat)\n",
    "sz_t = np.empty((intervals, np.size(sz_0)), dtype=np.cfloat)\n",
    "\n",
    "for ii in range(np.size(tlist)):\n",
    "    a_0 = da(a_0, dt, sm_0, Ft[ii], ki)\n",
    "    a2_0 = da2(a2_0, dt, ki, a_sm_0, a_sp_0, a_0, Ft[ii])\n",
    "    ada_0 = dada(ada_0, dt, a_sp_0, Ft[ii], a_0, ki)\n",
    "    sm_0 = dsm(sm_0, dt, w_spin, a_sz_0)\n",
    "    sz_0 = dsz(sz_0, dt, a_sp_0)\n",
    "    a_sz_0 = da_sz(a_sz_0, dt, sz_0, ki, sm_sz_s_0, sz_sm_d_0, a2_0, a_sp_0, a_0, sp_0, ada_0, a_sm_0, sm_0, Ft[ii])\n",
    "    a_sm_0 = da_sm(a_sm_0, dt, sm_sm_d_0, ki, sm_sm_s_0, a2_0, a_0, sz_0, a_sz_0, sm_0, Ft[ii])\n",
    "    a_sp_0 = da_sp(a_sp_0, dt, sz_0, ki, sm_sp_s_0, sp_sm_d_0, a_0, a_sz_0, ada_0, Ft[ii], sp_0)\n",
    "    sm_sz_s_0 = dsm_sz_s(sm_sz_s_0, dt, a_0, sz_0, a_sz_0, sz_sz_s_0, a_sm_0, a_sp_0, sm_sp_s_0, sp_0, sm_0, sm_sm_s_0)\n",
    "    sm_sp_s_0 = dsm_sp_s(sm_sp_s_0, dt, a_0, sm_sz_s_0, a_sp_0, a_sz_0, sz_0, sm_0)\n",
    "    sm_sm_s_0 = dsm_sm_s(sm_sm_s_0, dt, a_sm_0, a_sz_0, sm_sz_s_0, sm_0, sz_0, a_0)\n",
    "    sz_sz_s_0 = dsz_sz_s(sz_sz_s_0, dt, sm_sz_s_0, sz_0)\n",
    "    sm_sm_d_0 = dsm_sm_d(sm_sm_d_0, dt, a_0, sz_0, sm_0, a_sz_0, a_sm_0, sz_sm_d_0)\n",
    "    sz_sz_d_0 = dsz_sz_d(sz_sz_d_0, dt, a_sp_0, a_sz_0, sz_sm_d_0, a_0, sp_0, sz_0)\n",
    "    sz_sm_d_0 = dsz_sm_d(sz_sm_d_0, dt, a_sz_0, sz_sz_d_0, sz_0, a_0, sp_sm_d_0, sp_0, sm_0, a_sp_0, a_sm_0, sm_sm_d_0)\n",
    "    sp_sm_d_0 = dsp_sm_d(sp_sm_d_0, dt, sz_sm_d_0, a_sp_0, a_sz_0, sp_0, sz_0, sm_0, a_0)\n",
    "    a_t[ii] = a_0\n",
    "    ada_t[ii] = ada_0\n",
    "    sz_t[ii] = sz_0\n",
    "    \n",
    "    clear_output(wait=True)\n",
    "    display('Iteration ' +str(ii))"
   ]
  },
  {
   "cell_type": "code",
   "execution_count": 132,
   "id": "631cc5f5-2302-4d1e-8b4b-f0a57db31ee3",
   "metadata": {},
   "outputs": [
    {
     "data": {
      "text/plain": [
       "0.0"
      ]
     },
     "execution_count": 132,
     "metadata": {},
     "output_type": "execute_result"
    }
   ],
   "source": [
    "Ft[ii]"
   ]
  },
  {
   "cell_type": "code",
   "execution_count": 133,
   "id": "04bb9471-54f6-4daf-9747-71b1707c2157",
   "metadata": {},
   "outputs": [
    {
     "name": "stderr",
     "output_type": "stream",
     "text": [
      "/Users/pethidine/opt/anaconda3/lib/python3.9/site-packages/matplotlib/cbook/__init__.py:1298: ComplexWarning: Casting complex values to real discards the imaginary part\n",
      "  return np.asarray(x, float)\n",
      "/Users/pethidine/opt/anaconda3/lib/python3.9/site-packages/matplotlib/cbook/__init__.py:1298: ComplexWarning: Casting complex values to real discards the imaginary part\n",
      "  return np.asarray(x, float)\n",
      "/Users/pethidine/opt/anaconda3/lib/python3.9/site-packages/matplotlib/cbook/__init__.py:1298: ComplexWarning: Casting complex values to real discards the imaginary part\n",
      "  return np.asarray(x, float)\n"
     ]
    },
    {
     "data": {
      "text/plain": [
       "[<matplotlib.lines.Line2D at 0x7fa0b354ee20>]"
      ]
     },
     "execution_count": 133,
     "metadata": {},
     "output_type": "execute_result"
    },
    {
     "data": {
      "image/png": "[encoded data removed]",
      "text/plain": [
       "<Figure size 576x1080 with 4 Axes>"
      ]
     },
     "metadata": {
      "needs_background": "light"
     },
     "output_type": "display_data"
    }
   ],
   "source": [
    "end=20\n",
    "\n",
    "fig, ax = plt.subplots(4, 1, figsize=(8,15))\n",
    "ax[0].plot(tlist[:end], Ft[:end])\n",
    "ax[1].plot(tlist[:end], a_t[:end])\n",
    "ax[2].plot(tlist[:end], ada_t[:end])\n",
    "ax[3].plot(tlist[:end], np.mean(sz_t[:end], axis=1))"
   ]
  },
  {
   "cell_type": "code",
   "execution_count": 74,
   "id": "03c74380-1509-468c-b554-3fe3834097de",
   "metadata": {},
   "outputs": [
    {
     "data": {
      "text/plain": [
       "(100,)"
      ]
     },
     "execution_count": 74,
     "metadata": {},
     "output_type": "execute_result"
    }
   ],
   "source": [
    "np.shape(tlist[:100])"
   ]
  },
  {
   "cell_type": "code",
   "execution_count": 40,
   "id": "f0c3fe1a-2a51-41ce-ad1f-5d2e3360465e",
   "metadata": {},
   "outputs": [
    {
     "data": {
      "text/plain": [
       "[<matplotlib.lines.Line2D at 0x201d354b9a0>]"
      ]
     },
     "execution_count": 40,
     "metadata": {},
     "output_type": "execute_result"
    },
    {
     "data": {
      "image/png": "[encoded data removed]",
      "text/plain": [
       "<Figure size 640x480 with 1 Axes>"
      ]
     },
     "metadata": {},
     "output_type": "display_data"
    }
   ],
   "source": [
    "plt.plot(tlist[:50], a_t[:50])"
   ]
  },
  {
   "cell_type": "code",
   "execution_count": 129,
   "id": "cf3d0337-01ef-49cc-aae2-85da019516c5",
   "metadata": {},
   "outputs": [
    {
     "data": {
      "text/plain": [
       "array([[0.+0.j],\n",
       "       [1.+0.j]])"
      ]
     },
     "execution_count": 129,
     "metadata": {},
     "output_type": "execute_result"
    }
   ],
   "source": [
    "np.vstack(basis(2,1))"
   ]
  },
  {
   "cell_type": "code",
   "execution_count": 130,
   "id": "e343d5d7-805a-4b8f-b850-5aafb301e090",
   "metadata": {},
   "outputs": [
    {
     "data": {
      "text/latex": [
       "Quantum object: dims = [[2], [1]], shape = (2, 1), type = ket\\begin{equation*}\\left(\\begin{array}{*{11}c}0.0\\\\-1.0\\\\\\end{array}\\right)\\end{equation*}"
      ],
      "text/plain": [
       "Quantum object: dims = [[2], [1]], shape = (2, 1), type = ket\n",
       "Qobj data =\n",
       "[[ 0.]\n",
       " [-1.]]"
      ]
     },
     "execution_count": 130,
     "metadata": {},
     "output_type": "execute_result"
    }
   ],
   "source": [
    "sigmaz()*basis(2,1)"
   ]
  },
  {
   "cell_type": "code",
   "execution_count": 133,
   "id": "730ad2e6-ebdd-4754-ad46-6a7c038c2b09",
   "metadata": {},
   "outputs": [
    {
     "data": {
      "text/latex": [
       "Quantum object: dims = [[1], [1]], shape = (1, 1), type = bra\\begin{equation*}\\left(\\begin{array}{*{11}c}-1.0\\\\\\end{array}\\right)\\end{equation*}"
      ],
      "text/plain": [
       "Quantum object: dims = [[1], [1]], shape = (1, 1), type = bra\n",
       "Qobj data =\n",
       "[[-1.]]"
      ]
     },
     "execution_count": 134,
     "metadata": {},
     "output_type": "execute_result"
    }
   ],
   "source": [
    "bra(\"e\")*sigmaz()*basis(2,1)"
   ]
  },
  {
   "cell_type": "code",
   "execution_count": null,
   "id": "47a6136e-24c8-4783-bff6-7105bd45a24d",
   "metadata": {},
   "outputs": [],
   "source": []
  }
 ],
 "metadata": {
  "kernelspec": {
   "display_name": "Python 3 (ipykernel)",
   "language": "python",
   "name": "python3"
  },
  "language_info": {
   "codemirror_mode": {
    "name": "ipython",
    "version": 3
   },
   "file_extension": ".py",
   "mimetype": "text/x-python",
   "name": "python",
   "nbconvert_exporter": "python",
   "pygments_lexer": "ipython3",
   "version": "3.9.12"
  },
  "toc-autonumbering": false,
  "toc-showmarkdowntxt": false
 },
 "nbformat": 4,
 "nbformat_minor": 5
}
