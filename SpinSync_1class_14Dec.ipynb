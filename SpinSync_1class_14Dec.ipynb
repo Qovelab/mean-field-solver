{
 "cells": [
  {
   "cell_type": "code",
   "execution_count": 1,
   "id": "961395df-aec7-4916-b091-5c54c0f7e048",
   "metadata": {},
   "outputs": [],
   "source": [
    "from time import process_time\n",
    "import matplotlib.pyplot as plt\n",
    "import scipy\n",
    "import psutil\n",
    "import time\n",
    "\n",
    "from qutip import *\n",
    "from qutip.piqs import *\n",
    "\n",
    "import scipy.integrate as integrate\n",
    "from scipy.integrate import quad\n",
    "\n",
    "import numpy as np\n",
    "from numpy import linalg as LA\n",
    "from IPython.display import display, clear_output"
   ]
  },
  {
   "cell_type": "markdown",
   "id": "d7d3d30b-0a40-4faa-b0b4-dec2112c169c",
   "metadata": {
    "tags": []
   },
   "source": [
    "# Common parameters"
   ]
  },
  {
   "cell_type": "code",
   "execution_count": 2,
   "id": "c4b94c00-3fd0-4076-9ea2-e89e8ad22928",
   "metadata": {},
   "outputs": [],
   "source": [
    "def gauss(x, x_0, sigma):\n",
    "    return 1*np.exp(-((x-x_0) / sigma) ** 2)\n",
    "\n",
    "def ind_op(op1, op2, N_spin, index):\n",
    "    # create a tensor product of op1 everywhere but at index, where it's op2\n",
    "    # returns tensor_i!=index op1 tensor op2\n",
    "    a = [op1] * N_spin\n",
    "    a[index] = op2\n",
    "    return tensor(a)\n",
    "\n",
    "def sum_ops(op1, op2, N_spin, c):\n",
    "    # sum of all permutations where all operators are op1 but one is op2\n",
    "    return sum([c*ind_op(op1, op2, N_spin, i) for i in range(N_spin)])"
   ]
  },
  {
   "cell_type": "code",
   "execution_count": 3,
   "id": "33341940-805b-4822-95f4-c228b7496cd1",
   "metadata": {},
   "outputs": [
    {
     "name": "stdout",
     "output_type": "stream",
     "text": [
      "Intervals =  1250\n"
     ]
    }
   ],
   "source": [
    "# Model description\n",
    "# Units in kHz\n",
    "# /2pi\n",
    "\n",
    "gk = 1.6 # kHz Coupling strength\n",
    "kappa = 160. # kHz Cavity linewidth\n",
    "gamma = 2000. #\n",
    "Gamma = 0. # Dephasing\n",
    "\n",
    "N_spin = 1e2 # Total number of emitters\n",
    "N_cav = 30 # Fock states\n",
    "k = 1 # Number of frequency classes\n",
    "delta_c = 0. # wc-wp\n",
    "sigma_c = 10.*kappa # Broadening STD\n",
    "\n",
    "Delta_max = 5.*sigma_c\n",
    "# delta_a = np.linspace(-Delta_max, Delta_max, k) # Spin inhomogenous broadening span\n",
    "delta_a = 0.001*sigma_c\n",
    "norm = np.sum(gauss(delta_a, 0, sigma_c))\n",
    "ki = gauss(delta_a, delta_c, sigma_c)/norm*N_spin # Population distribution for each class \n",
    "\n",
    "# Square pulse\n",
    "dt = 1/5*1/N_spin # Take into consideration of the fastest oscillation in the system\n",
    "endtime = 4./gk\n",
    "intervals = int(endtime/dt)\n",
    "tlist = np.linspace(0, endtime, intervals)\n",
    "tprep = 0.2 #us*endtime\n",
    "F = 1 #kHz\n",
    "Ft = F*np.append(np.ones(int(intervals*tprep)), np.zeros(int(intervals*(1-tprep))))\n",
    "# Ft = np.zeros(intervals)\n",
    "\n",
    "w_spin = delta_a - 1j*(gamma/2. + Gamma)\n",
    "w_cav = delta_c - 1j*kappa/2.\n",
    "print('Intervals = ', intervals)"
   ]
  },
  {
   "cell_type": "code",
   "execution_count": 4,
   "id": "36829ef4-baf0-4e08-927b-9dde5153d2ff",
   "metadata": {},
   "outputs": [
    {
     "data": {
      "text/plain": [
       "[<matplotlib.lines.Line2D at 0x1bdaa80c220>]"
      ]
     },
     "execution_count": 4,
     "metadata": {},
     "output_type": "execute_result"
    },
    {
     "data": {
      "image/png": "[encoded data removed]",
      "text/plain": [
       "<Figure size 640x480 with 1 Axes>"
      ]
     },
     "metadata": {},
     "output_type": "display_data"
    }
   ],
   "source": [
    "plt.plot(tlist, Ft)"
   ]
  },
  {
   "cell_type": "markdown",
   "id": "22c7c663-ce18-4681-8c5e-c1009d00b38c",
   "metadata": {
    "jp-MarkdownHeadingCollapsed": true,
    "tags": []
   },
   "source": [
    "# QuTiP"
   ]
  },
  {
   "cell_type": "markdown",
   "id": "0097504d-d810-4305-9dfb-3b5cc6b48fd9",
   "metadata": {
    "jp-MarkdownHeadingCollapsed": true,
    "tags": []
   },
   "source": [
    "## Exact Solver"
   ]
  },
  {
   "cell_type": "code",
   "execution_count": 52,
   "id": "44d26e12-a1fd-40b0-b69f-b401a54d26c9",
   "metadata": {},
   "outputs": [],
   "source": [
    "class exact_sys:\n",
    "    \n",
    "    def __init__(self, N_spin, N_cav, E_spin=True):\n",
    "        # N_spin: number of spins\n",
    "        # N_cav: the dimension of the Fock space, assume 0 excitation in the cavity\n",
    "        # E_spin: bool, whether the spins are initially excited\n",
    "        self.N_spin = N_spin\n",
    "        self.N_cav = N_cav\n",
    "        self.E_spin = E_spin\n",
    "        self.ID_spin = tensor([qeye(2)]*N_spin)\n",
    "        # Initial sate\n",
    "        if E_spin:\n",
    "            self.psi0 = tensor(basis(N_cav, 0), tensor([basis(2, 0)]*N_spin))\n",
    "        else:\n",
    "            self.psi0 =  psi0 = tensor(basis(N_cav, 0), tensor([basis(2, 1)]*N_spin))\n",
    "        # Operators\n",
    "        self.a = tensor(destroy(N_cav), self.ID_spin)\n",
    "        self.ad = tensor(destroy(N_cav).dag(),self.ID_spin)\n",
    "        self.sp = tensor(qeye(N_cav), sum_ops(qeye(2), sigmap(), N_spin, 1))\n",
    "        self.sm = tensor(qeye(N_cav), sum_ops(qeye(2), sigmam(), N_spin, 1))\n",
    "        self.sz = tensor(qeye(N_cav), sum_ops(qeye(2), sigmaz(), N_spin, 1))\n",
    "        \n",
    "        # Hamiltonian\n",
    "        H0 = delta_c*self.ad*self.a + delta_a/2*self.sz + gk*(self.a*self.sp + self.ad*self.sm)\n",
    "        self.H = [H0, [(self.ad+self.a), Ft]] \n",
    "    \n",
    "    def __str__(self):\n",
    "        return f'Exact solver for {self.N_spin} spins, Fock states = {self.N_cav}'\n",
    "    \n",
    "    def run_mesolve(self, tlist, c_ops, e_ops):\n",
    "        start = time.time()\n",
    "        out = mesolve(self.H, self.psi0, tlist, c_ops = c_ops, e_ops = e_ops)\n",
    "        end = time.time()\n",
    "        print(f'Run time: {end-start}s')\n",
    "        return out"
   ]
  },
  {
   "cell_type": "code",
   "execution_count": 75,
   "id": "1fd13ba0-0a7c-45c9-86d5-c9ba92d7cda0",
   "metadata": {},
   "outputs": [
    {
     "name": "stdout",
     "output_type": "stream",
     "text": [
      "Run time: 24.232027053833008s\n"
     ]
    }
   ],
   "source": [
    "# Example use\n",
    "exact = exact_sys(4, 20)\n",
    "exact_out = exact.run_mesolve(tlist, [np.sqrt(kappa/10)*exact.a], [exact.sz, exact.ad*exact.a])"
   ]
  },
  {
   "cell_type": "code",
   "execution_count": 64,
   "id": "7769d75a-c82e-45ef-a757-6414bd1e3b9f",
   "metadata": {},
   "outputs": [
    {
     "data": {
      "text/plain": [
       "[<matplotlib.lines.Line2D at 0x29435580250>]"
      ]
     },
     "execution_count": 64,
     "metadata": {},
     "output_type": "execute_result"
    },
    {
     "data": {
      "image/png": "[encoded data removed]",
      "text/plain": [
       "<Figure size 640x480 with 1 Axes>"
      ]
     },
     "metadata": {},
     "output_type": "display_data"
    }
   ],
   "source": [
    "plt.plot(tlist, exact_out.expect[1])"
   ]
  },
  {
   "cell_type": "markdown",
   "id": "b7b9024e-e08b-4e32-90f3-eb51ea3eec0d",
   "metadata": {
    "tags": []
   },
   "source": [
    "## Permutational-invariant PIQS"
   ]
  },
  {
   "cell_type": "code",
   "execution_count": 65,
   "id": "b4885bcf-07d5-4029-bf28-688e7b52bf25",
   "metadata": {},
   "outputs": [],
   "source": [
    "class piqs_sys:\n",
    "    def __init__(self, N_spin, N_cav, E_spin=True):\n",
    "        self.N_spin = N_spin\n",
    "        self.N_cav = N_cav\n",
    "        self.E_spin = E_spin\n",
    "        self.ID_spin = to_super(qeye(self.N_spin))\n",
    "        self.ID_cav = to_super(qeye(self.N_cav))\n",
    "\n",
    "        # Operators\n",
    "        self.a = tensor(destroy(N_cav), self.ID_spin)\n",
    "        self.ad = tensor(destroy(N_cav).dag(),self.ID_spin)\n",
    "        self.sp = tensor(qeye(N_cav), sum_ops(qeye(2), sigmap(), N_spin, 1))\n",
    "        self.sm = tensor(qeye(N_cav), sum_ops(qeye(2), sigmam(), N_spin, 1))\n",
    "        self.sz = tensor(qeye(N_cav), sum_ops(qeye(2), sigmaz(), N_spin, 1))\n",
    "        \n",
    "        # Two-level operators\n",
    "        nds = num_dicke_states(N_spin)\n",
    "        [jx, jy, jz] = jspin(N_spin)\n",
    "        jz = 2*jz\n",
    "        jp, jm = jspin(N_spin, \"+\"), jspin(N_spin, \"-\")\n",
    "        \n",
    "        # Cavity operators\n",
    "        a = destroy(N_cav)\n",
    "        \n",
    "        # System superoperators\n",
    "        self.jz_tot = tensor(qeye(N_cav), jz)\n",
    "        self.jm_tot = tensor(qeye(N_cav), jm)\n",
    "        self.jp_tot = tensor(qeye(N_cav), jp)\n",
    "        self.jpjm_tot = tensor(qeye(N_cav), jp*jm)\n",
    "        self.a_tot = tensor(a, qeye(nds))\n",
    "        self.ada_tot = tensor(a.dag()*a, qeye(nds))\n",
    "        if self.E_spin:\n",
    "            self.psi0 = tensor(fock_dm(N_cav,0), excited(N_spin, basis='dicke'))\n",
    "        else:\n",
    "            self.psi0 = tensor(fock_dm(N_cav,0), ground(N_spin, basis='dicke'))\n",
    "        # Hamiltonian\n",
    "        H_spin = delta_a/2 * self.jz_tot\n",
    "        H_cav = delta_c * self.a_tot.dag() * self.a_tot\n",
    "        H_int = gk * (self.a_tot.dag()*self.jm_tot + self.a_tot*self.jm_tot.dag())\n",
    "        self.H = [H_spin+H_cav+H_int, [(self.a_tot.dag()+self.a_tot), Ft]] \n",
    "        \n",
    "    def __str__(self):\n",
    "        if self.E_spin:\n",
    "            return f'PIQS solver for {self.N_spin} excited spins, Fock states = {self.N_cav}'\n",
    "        else:\n",
    "            return f'PIQS solver for {self.N_spin} ground state spins, Fock states = {self.N_cav}'\n",
    "    \n",
    "    def run_mesolve(self, tlist, c_ops, e_ops):\n",
    "        start = time.time()\n",
    "        out = mesolve(self.H, self.psi0, tlist, c_ops = c_ops, e_ops = e_ops)\n",
    "        end = time.time()\n",
    "        print(f'Run time: {end-start}s')\n",
    "        return out"
   ]
  },
  {
   "cell_type": "code",
   "execution_count": 232,
   "id": "17acc443-e62f-4ed5-804c-cdf2325ebfdf",
   "metadata": {},
   "outputs": [
    {
     "name": "stdout",
     "output_type": "stream",
     "text": [
      "Run time: 351.2518491744995s\n"
     ]
    },
    {
     "data": {
      "text/plain": [
       "[<matplotlib.lines.Line2D at 0x2943b70ec10>]"
      ]
     },
     "execution_count": 232,
     "metadata": {},
     "output_type": "execute_result"
    },
    {
     "data": {
      "image/png": "[encoded data removed]",
      "text/plain": [
       "<Figure size 640x480 with 1 Axes>"
      ]
     },
     "metadata": {},
     "output_type": "display_data"
    }
   ],
   "source": [
    "piq = piqs_sys(12,20)\n",
    "piq_out = piq.run_mesolve(tlist, [np.sqrt(kappa/5)*piq.a_tot], [piq.jz_tot,piq.ada_tot])\n",
    "plt.plot(tlist, piq_out.expect[1])"
   ]
  },
  {
   "cell_type": "markdown",
   "id": "d4624891-42e8-4929-8b8b-aebcf1ee746b",
   "metadata": {
    "jp-MarkdownHeadingCollapsed": true,
    "tags": []
   },
   "source": [
    "## Plot comparison with the exact solver"
   ]
  },
  {
   "cell_type": "code",
   "execution_count": 70,
   "id": "e4b11440-e314-4fb8-ad5f-3f7212fcc534",
   "metadata": {},
   "outputs": [
    {
     "data": {
      "image/png": "[encoded data removed]",
      "text/plain": [
       "<Figure size 400x800 with 2 Axes>"
      ]
     },
     "metadata": {},
     "output_type": "display_data"
    }
   ],
   "source": [
    "fig, ax = plt.subplots(2,1, figsize=(4,8))\n",
    "for i in range(2):    \n",
    "    ax[i].plot(tlist, piq_out.expect[i], label = 'piq')\n",
    "    ax[i].plot(tlist, exact_out.expect[i], label = 'exact')\n",
    "    ax[i].legend()\n",
    "    ax[i].set_ylabel('Excited spins')\n",
    "    ax[i].set_title(i+1)"
   ]
  },
  {
   "cell_type": "code",
   "execution_count": null,
   "id": "6b6b6aee-0baf-42b0-85fb-8cc9e0ddadf1",
   "metadata": {},
   "outputs": [
    {
     "name": "stdout",
     "output_type": "stream",
     "text": [
      "CPU times: user 3.07 s, sys: 35.9 ms, total: 3.11 s\n",
      "Wall time: 3.11 s\n"
     ]
    }
   ],
   "source": [
    "%%time\n",
    "psi0_1 = tensor(basis(N_cav,0), basis(2,0))\n",
    "a_1 = tensor(destroy(N_cav), qeye(2))\n",
    "ad_1 = a_1.dag()\n",
    "sp_1 = tensor(qeye(N_cav), sigmap())\n",
    "sm_1 = sp_1.dag()\n",
    "sz_1 = tensor(qeye(N_cav), sigmaz())\n",
    "H0_1 = delta_c*ad_1*a_1 + delta_a/2.*sz_1 + gk*(a_1*sp_1 + ad_1*sm_1)\n",
    "out1 = mesolve(H0_1, psi0_1, tlist, e_ops=[(sz+1)/2.])"
   ]
  },
  {
   "cell_type": "code",
   "execution_count": null,
   "id": "1aacca24-a914-4ad2-a99c-6e5067ab9d91",
   "metadata": {},
   "outputs": [
    {
     "data": {
      "text/plain": [
       "<matplotlib.legend.Legend at 0x7fc336eef2e0>"
      ]
     },
     "execution_count": 123,
     "metadata": {},
     "output_type": "execute_result"
    },
    {
     "data": {
      "image/png": "[encoded data removed]",
      "text/plain": [
       "<Figure size 432x288 with 1 Axes>"
      ]
     },
     "metadata": {
      "needs_background": "light"
     },
     "output_type": "display_data"
    }
   ],
   "source": [
    "plt.plot(tlist, out1.expect[0], label='1spin')\n",
    "plt.plot(tlist, n_ex[0], label='exact')\n",
    "plt.plot(tlist, n_ex_piq[0], label='piq')\n",
    "plt.plot(tlist, out_p.expect[0], label='dicke')\n",
    "plt.legend()"
   ]
  },
  {
   "cell_type": "markdown",
   "id": "fb24d826-0a8e-4d5e-9006-dfe1c519e530",
   "metadata": {
    "tags": []
   },
   "source": [
    "# Mean-field solver"
   ]
  },
  {
   "cell_type": "code",
   "execution_count": 5,
   "id": "ae06e43c-eb4b-4a0f-9a35-d745dc1acc26",
   "metadata": {},
   "outputs": [
    {
     "data": {
      "text/plain": [
       "Text(0, 0.5, 'Population')"
      ]
     },
     "execution_count": 5,
     "metadata": {},
     "output_type": "execute_result"
    },
    {
     "data": {
      "image/png": "[encoded data removed]",
      "text/plain": [
       "<Figure size 640x480 with 1 Axes>"
      ]
     },
     "metadata": {},
     "output_type": "display_data"
    }
   ],
   "source": [
    "from numpy.random import seed\n",
    "from numpy.random import normal\n",
    "\n",
    "#make this example reproducible\n",
    "seed(1)\n",
    "\n",
    "data = normal(loc=delta_c, scale=10*kappa, size=10**4)\n",
    "class_pop, detuning, ignored = plt.hist(data, 220)\n",
    "plt.xlabel('Detuning')\n",
    "plt.ylabel('Population')"
   ]
  },
  {
   "cell_type": "markdown",
   "id": "5724a31f-a1fe-4b81-8ff9-ca7c557d53a0",
   "metadata": {
    "tags": []
   },
   "source": [
    "## Mean-field equations (different classes)"
   ]
  },
  {
   "cell_type": "code",
   "execution_count": null,
   "id": "d882257a-7f3d-4f10-8747-b0705b861dee",
   "metadata": {},
   "outputs": [],
   "source": [
    "class mean_field_sys:\n",
    "    \n",
    "    def __init__(self, N_cav, delta_c, gk, gamma, Gamma, kappa, F, end, dt, N_class, detuning, E_spin=True, Int_2nd=False, sci=True):\n",
    "        self.k = len(N_class)\n",
    "        self.N_class = N_class # Distirbution of spins in each class, k-D array\n",
    "        self.N_cav = N_cav\n",
    "        self.delta_c = delta_c\n",
    "        self.delta_a = detuning + delta_c*np.ones(self.k, dtype=np.cfloat) \n",
    "        self.gamma = gamma\n",
    "        self.Gamma = Gamma\n",
    "        self.kappa = kappa\n",
    "        self.w_spin = self.delta_a - 1j*(self.gamma/2. + self.Gamma)\n",
    "        self.w_cav = self.delta_c - 1j*self.kappa/2.\n",
    "        self.E_spin = E_spin\n",
    "        if Int_2nd == True:\n",
    "            self.Int_2nd = 1\n",
    "        else:\n",
    "            self.Int_2nd = 0\n",
    "        self.sci = sci\n",
    "        self.end = end\n",
    "        self.dt = dt\n",
    "        self.gk = gk\n",
    "       \n",
    "        self.intervals = int(self.end/self.dt)\n",
    "        self.tlist = np.linspace(0, self.end, self.intervals)\n",
    "        self.tprep = 0.2 #us*endtime\n",
    "        self.pulse = F*np.append(np.ones(int(self.intervals*self.tprep)), np.zeros(int(self.intervals*(1-self.tprep))))\n",
    "        self.F_t = self.pulse[0]\n",
    "\n",
    "    ###########################################################################################################################\n",
    "        # Initialization of operators\n",
    "    ###########################################################################################################################       \n",
    "        \n",
    "        self.a = 0+0j\n",
    "        self.da = 0.\n",
    "        self.ada = 0.\n",
    "        self.dada = 0.\n",
    "        self.a2 = 0.\n",
    "        self.da2 = 0.\n",
    "        self.sm = np.zeros(self.k, dtype=np.cfloat) \n",
    "        self.dsm = np.zeros(self.k, dtype=np.cfloat) \n",
    "        self.sp = np.zeros(self.k, dtype=np.cfloat)\n",
    "        self.dsp = np.zeros(self.k, dtype=np.cfloat) \n",
    "        if E_spin:\n",
    "            self.sz = np.ones(self.k, dtype=np.cfloat) # Added self.N_class*\n",
    "        else:\n",
    "            self.sz = -np.ones(self.k, dtype=np.cfloat)\n",
    "        self.dsz = np.zeros(self.k, dtype=np.cfloat)\n",
    "\n",
    "        self.a_sz = np.zeros(self.k, dtype=np.cfloat) # Product of expectation value of a and sz\n",
    "        self.da_sz = np.zeros(self.k, dtype=np.cfloat) \n",
    "        self.a_sm = np.zeros(self.k, dtype=np.cfloat)\n",
    "        self.da_sm = np.zeros(self.k, dtype=np.cfloat) \n",
    "        self.a_sp = np.zeros(self.k, dtype=np.cfloat)\n",
    "        self.da_sp = np.zeros(self.k, dtype=np.cfloat) \n",
    "        \n",
    "        # For different spins in then same class, each pair is equivalent\n",
    "        self.sm_sz_s = np.zeros(self.k, dtype=np.cfloat)\n",
    "        self.dsm_sz_s = np.zeros(self.k, dtype=np.cfloat) \n",
    "        self.sm_sp_s = np.zeros(self.k, dtype=np.cfloat)\n",
    "        self.dsm_sp_s = np.zeros(self.k, dtype=np.cfloat) \n",
    "        self.sm_sm_s = np.zeros(self.k, dtype=np.cfloat)\n",
    "        self.dsm_sm_s = np.zeros(self.k, dtype=np.cfloat) \n",
    "        self.sz_sz_s = np.ones(self.k, dtype=np.cfloat)\n",
    "        self.dsz_sz_s = np.zeros(self.k, dtype=np.cfloat) \n",
    "\n",
    "        # Different class all set to 0, ignore if there is only one class\n",
    "        self.sm_sm_d = np.zeros((self.k, self.k), dtype=np.cfloat)\n",
    "        self.dsm_sm_d = np.zeros((self.k, self.k), dtype=np.cfloat)\n",
    "        if self.k>1:\n",
    "            self.sz_sz_d = np.ones((self.k, self.k), dtype=np.cfloat)\n",
    "        else:\n",
    "            self.sz_sz_d = np.zeros((self.k, self.k), dtype=np.cfloat)\n",
    "        self. dsz_sz_d = np.zeros((self.k, self.k), dtype=np.cfloat)\n",
    "        np.fill_diagonal(self.sz_sz_d, 0)\n",
    "        self.sz_sm_d = np.zeros((self.k, self.k), dtype=np.cfloat)\n",
    "        self.dsz_sm_d = np.zeros((self.k, self.k), dtype=np.cfloat)\n",
    "        self.sp_sm_d = np.zeros((self.k, self.k), dtype=np.cfloat)\n",
    "        self.dsp_sm_d = np.zeros((self.k, self.k), dtype=np.cfloat)\n",
    "        \n",
    "\n",
    "    def __str__(self):\n",
    "        if self.E_spin:\n",
    "            return f'Mean-field solver for {self.N_spin} excited spins, Fock states = {self.N_cav}'\n",
    "        else:\n",
    "            return f'Mean-field solver for {self.N_spin} ground state spins, Fock states = {self.N_cav}'\n",
    "    \n",
    "    ###########################################################################################################################\n",
    "        # Computing 1st and 2nd order differentials\n",
    "    ###########################################################################################################################\n",
    "    \n",
    "    \n",
    "    def cal_da(self):\n",
    "        return (-1j * self.w_cav * self.a - 1j * self.gk * sum(self.N_class * self.sm) - 1j * self.F_t) \n",
    "    \n",
    "    def cal_dda(self):\n",
    "        return (-1j * self.w_cav * self.da - 1j * self.gk * sum(self.N_class * self.dsm))\n",
    "\n",
    "    def cal_da2(self):\n",
    "        return (-2j * self.w_cav * self.a2 - 2j * self.gk * np.sum(self.N_class * self.a_sm) - 2j * self.F_t * self.a) \n",
    "    \n",
    "    def cal_dda2(self):\n",
    "        return (-2j * self.w_cav * self.da2 - 2j * self.gk * np.sum(self.N_class * self.da_sm) - 2j * self.F_t * self.da)\n",
    "\n",
    "    def cal_dada(self):\n",
    "        return (-2 * self.gk * np.sum(self.N_class * np.imag(self.a_sp)) + 2 * self.F_t * np.imag(self.a) - self.kappa * self.ada)\n",
    "    \n",
    "    def cal_ddada(self):\n",
    "        return (-2 * self.gk * np.sum(self.N_class * np.imag(self.da_sp)) + 2 * self.F_t * np.imag(self.da) - self.kappa * self.ada)\n",
    "    \n",
    "    ###########################################################################################################################\n",
    "    ## Same class s expectation values\n",
    "    \n",
    "    # Define a function that computes the scalar product of two vectors, except for one element\n",
    "    def scalar(s,vec1,vec2):\n",
    "        # the fastest way is to compute the scal-prod then subtract the term we do not want\n",
    "        \n",
    "        \n",
    "    \n",
    "    def cal_dsm(self,s):\n",
    "        return (-1j * self.w_spin[s] * self.sm[s] + 1j * self.a_sz[s] * self.gk)\n",
    "\n",
    "    def cal_ddsm(self,s):\n",
    "        return (-1j * self.w_spin[s] * self.dsm[s] + 1j * self.da_sz[s] * self.gk)\n",
    "\n",
    "    def cal_dsz(self,s):\n",
    "        return (4 * self.gk * np.imag(self.a_sp[s]) - self.gamma * (1 + self.sz[s]))\n",
    "    \n",
    "    def cal_ddsz(self,s):\n",
    "        return (4 * self.gk * np.imag(self.da_sp[s]) - self.gamma * self.dsz[s])\n",
    "\n",
    "    def cal_da_sz(self,s):\n",
    "        return (-1j * self.w_cav * self.a_sz[s] - 1j * self.gk * (-self.sm[s] + (self.N_class[s]-1) * self.sm_sz_s[s]) - \\\n",
    "                2j * self.gk * ((self.a2 * self.sp[s] + 2 * self.a * self.a_sp[s] - 2 * self.a**2 * self.sp[s]) - (np.conjugate(self.a) * self.a_sm[s] + self.a * np.conjugate(self.a_sp[s]) +\\\n",
    "                 self.ada * self.sm[s] - 2*np.abs(self.a)**2 * self.sm[s])) - self.gamma * (self.a + self.a_sz[s]) - 1j * self.F_t * self.sz[s] - \\\n",
    "                1j * self.gk * np.sum(self.sz_sm_d * self.N_class[..., None], axis=0)) # Assuming that N is a row vector of size k\n",
    "\n",
    "    def cal_dda_sz(self): ######################################## !!!!!!!!!!!!!!!!!!!!!!!!!!!!!!!!!!!!!!!!!!!!!!!!!!!!\n",
    "        return (-1j * self.w_cav * self.da_sz - 1j * self.gk * (-self.dsm + (self.N_class-1) * self.dsm_sz_s) - \\\n",
    "                2j * self.gk * ((self.da2 * self.sp + self.da2 * self.dsp +  2 * (self.da * self.a_sp + self.a * self.da_sp) - 2 * (self.a**2 * self.dsp + 2*self.a*self.da*self.sp))\\\n",
    "                - (np.conjugate(self.da) * self.a_sm + np.conjugate(self.a) * self.da_sm + self.da * np.conjugate(self.a_sp) + self.a * np.conjugate(self.da_sp) +\\\n",
    "                 self.dada * self.sm + self.ada * self.dsm - 2*(np.abs(self.a)**2 * self.dsm + np.abs(self.a)*2 * self.da * self.sm)))\\\n",
    "                - self.gamma * (self.da + self.da_sz) - 1j * self.F_t * self.dsz - \\\n",
    "                1j * self.gk * np.sum(self.dsz_sm_d * self.N_class[..., None], axis=0))\n",
    "\n",
    "    def cal_da_sm(self):\n",
    "        return (-1j * (self.w_spin + self.w_cav) * self.a_sm - 1j * self.gk * ((self.N_class-1) * self.sm_sm_s - 2 * self.a_sz * self.a - self.a2 * self.sz\\\n",
    "                + 2 * self.a**2 * self.sz) - 1j * self.F_t * self.sm - 1j * self.gk * np.sum(self.sm_sm_d * self.N_class[..., None], axis=0))\n",
    "    \n",
    "    def cal_dda_sm(self):\n",
    "        return (-1j * (self.w_spin + self.w_cav) * self.da_sm - 1j * self.gk * ((self.N_class-1) * self.dsm_sm_s - 2 * (self.da_sz * self.a + self.a_sz * self.da)\\\n",
    "                - (self.da2 * self.sz + self.a2 * self.dsz)+ 2 * (self.a**2 * self.dsz + self.a*2 * self.da * self.sz)) - 1j * self.F_t * self.dsm\\\n",
    "                - 1j * self.gk * np.sum(self.dsm_sm_d * self.N_class[..., None], axis=0))\n",
    "\n",
    "    \n",
    "    def cal_da_sp(self):\n",
    "        return (1j * (np.conj(self.w_spin) - self.w_cav) * self.a_sp - .5j * self.gk * (1-self.sz) - 1j * self.gk * (self.N_class-1) * self.sm_sp_s\\\n",
    "                -1j * self.gk * np.sum(self.sp_sm_d * self.N_class[..., None], axis=0) - 1j * self.gk * ((1+self.ada) * self.sz + 2 * np.real(self.a * np.conjugate(self.a_sz)) - 2 * np.abs(self.a)**2 * self.sz)\\\n",
    "                -1j * self.F_t * self.sp)\n",
    "    \n",
    "    def cal_dda_sp(self):\n",
    "        return (1j * (np.conj(self.w_spin) - self.w_cav) * self.da_sp + .5j * self.gk * self.dsz - 1j * self.gk * (self.N_class-1) * self.dsm_sp_s\\\n",
    "                -1j * self.gk * np.sum(self.dsp_sm_d * self.N_class[..., None], axis=0) - 1j * self.gk * ((1+self.ada) * self.dsz + self.sz * self.dada \\\n",
    "                + 2 * np.real(self.da * np.conjugate(self.a_sz) + self.a * np.conjugate(self.da_sz)) - 2 * (np.abs(self.a)**2 * self.dsz + np.abs(self.a)*2 * self.da * self.sz))\\\n",
    "                -1j * self.F_t * self.dsp)\n",
    "\n",
    "    ###########################################################################################################################\n",
    "    # Spin-spin interactions from the same class\n",
    "    def cal_dsm_sz_s(self):\n",
    "        ad = np.conjugate(self.a)\n",
    "        return (-1j * self.w_spin * self.sm_sz_s + 1j * self.gk * (self.a * self.sz_sz_s + 2 * self.sz * self.a_sz - 2 * self.a * self.sz**2)- 2j * self.gk\\\n",
    "            *(self.a_sm * self.sp + self.a_sp * self.sm + self.a * self.sm_sp_s - 2 * self.a * self.sm * self.sp - (ad * self.sm_sm_s + 2*np.conjugate(self.a_sp) * self.sm\\\n",
    "            - 2 * ad * self.sm**2)) - self.gamma*(self.sm + self.sm_sz_s))\n",
    "    \n",
    "    def cal_ddsm_sz_s(self):\n",
    "        return (-1j * self.w_spin * self.dsm_sz_s + 1j * self.gk * (self.da * self.sz_sz_s + self.a * self.dsz_sz_s + 2 * self.dsz * self.a_sz + 2 * self.sz * self.da_sz\\\n",
    "                - 2 * self.da * self.sz**2 - 2 * self.a * self.sz*2 * self.dsz)- 2j * self.gk *(self.da_sm * self.sp + self.a_sm * self.dsp + \\\n",
    "                self.da_sp * self.sm + self.a_sp * self.dsm + self.da * self.sm_sp_s + self.a * self.dsm_sp_s - 2 * (self.da * self.sm * self.sp + self.a * self.dsm * self.sp + self.a * self.sm * self.dsp)\\\n",
    "                - (np.conjugate(self.da) * self.sm_sm_s + np.conjugate(self.a) * self.dsm_sm_s + 2*np.conjugate(self.da_sp) * self.sm + 2*np.conjugate(self.a_sp) * self.dsm\\\n",
    "                - 2 * (np.conjugate(self.da) * self.sm**2 + np.conjugate(self.a) * self.sm*2 * self.dsm))) - self.gamma*(self.dsm + self.dsm_sz_s))\n",
    "\n",
    "    def cal_dsm_sp_s(self):\n",
    "        return (2 * np.imag(self.w_spin) * self.sm_sp_s + \\\n",
    "                2* self.gk * np.imag(self.sz * np.conjugate(self.a_sp) + \\\n",
    "                np.conjugate(self.a) * self.sm_sz_s + self.sm * np.conjugate(self.a_sz)-\\\n",
    "                2 * np.conjugate(self.a)* self.sm * self.sz))\n",
    "    \n",
    "    def cal_ddsm_sp_s(self):\n",
    "        return (2 * np.imag(self.w_spin) * self.dsm_sp_s + \\\n",
    "                2* self.gk * np.imag(self.dsz * np.conjugate(self.a_sp) + self.sz * np.conjugate(self.da_sp) +\\\n",
    "                np.conjugate(self.da) * self.sm_sz_s + np.conjugate(self.a) * self.dsm_sz_s + self.dsm * np.conjugate(self.a_sz) + self.sm * np.conjugate(self.da_sz)-\\\n",
    "                2 * (np.conjugate(self.da)* self.sm * self.sz + np.conjugate(self.a)* self.dsm * self.sz + np.conjugate(self.a)* self.sm * self.dsz)))\n",
    "\n",
    "    def cal_dsm_sm_s(self):\n",
    "        return (-2j * self.w_spin * self.sm_sm_s + 2j * self.gk * (self.a * self.sm_sz_s + self.a_sm * self.sz + self.a_sz * self.sm-\\\n",
    "                    2 * self.a * self.sm * self.sz))\n",
    "    \n",
    "    def cal_ddsm_sm_s(self):\n",
    "        return (-2j * self.w_spin * self.dsm_sm_s + 2j * self.gk * (self.da * self.sm_sz_s + self.a * self.dsm_sz_s + self.da_sm * self.sz + self.a_sm * self.dsz \\\n",
    "                + self.da_sz * self.sm + self.a_sz * self.dsm - 2 * (self.da * self.sm * self.sz + self.a * self.dsm * self.sz + self.a * self.sm * self.dsz )))\n",
    "\n",
    "    def cal_dsz_sz_s(self):\n",
    "        return (8 * self.gk * np.imag(self.a * np.conjugate(self.sm_sz_s) + self.a_sp * self.sz + self.a_sz * self.sp - 2 * self.a * self.sp * self.sz) - \\\n",
    "                   2 *self.gamma * (self.sz + self.sz_sz_s))\n",
    "    \n",
    "    def cal_ddsz_sz_s(self):\n",
    "        return (8 * self.gk * np.imag(self.da * np.conjugate(self.sm_sz_s) + self.a * np.conjugate(self.dsm_sz_s) + self.da_sp * self.sz + self.a_sp * self.dsz + \\\n",
    "                self.da_sz * self.sp + self.a_sz * self.dsp - 2 * (self.da * self.sp * self.sz + self.a * self.dsp * self.sz + self.a * self.sp * self.dsz)) - \\\n",
    "                   2 *self.gamma * (self.dsz + self.dsz_sz_s))\n",
    "\n",
    "    ###########################################################################################################################\n",
    "    # Spin-spin interactions from a different class\n",
    "    def cal_dsm_sm_d(self):\n",
    "        N = np.size(self.w_spin)\n",
    "        w_spin_r = np.tile(self.w_spin, N).reshape(N, N)\n",
    "        w_spin_c = w_spin_r.T\n",
    "        a_sz_c = np.vstack(self.a_sz)\n",
    "        sm_c = np.vstack(self.sm)\n",
    "        a_sm_c = np.vstack(self.a_sm)\n",
    "        sz_c = np.vstack(self.sz)\n",
    "\n",
    "        d = (-1j * (w_spin_r + w_spin_c) * self.sm_sm_d + \\\n",
    "                   1j * self.gk * (self.a * self.sz_sm_d + sm_c * self.a_sz + self.sz * a_sm_c - 2 * self.a * self.sz * sm_c)\\\n",
    "                   + 1j * self.gk * (self.a * self.sz_sm_d.T + self.sm * a_sz_c + sz_c * self.a_sm - 2 * self.sm * sz_c))\n",
    "        np.fill_diagonal(d, 0)\n",
    "        return d\n",
    "\n",
    "    def cal_dsz_sz_d(self):\n",
    "        N = np.size(self.sz)\n",
    "        a_sz_c = np.vstack(self.a_sz)\n",
    "        a_sp_c = np.vstack(self.a_sp)\n",
    "        sp_c = np.vstack(self.sp)\n",
    "        sz_c = np.vstack(self.sz)\n",
    "        sz_mat_c = np.tile(sz_c, N)\n",
    "        sz_mat_r = np.tile(self.sz, N).reshape(N, N)\n",
    "\n",
    "        d = (4 * self.gk * np.imag(self.a * np.conjugate(self.sz_sm_d).T + \\\n",
    "                    self.sp * a_sz_c + self.a_sp * sz_c - 2 * self.a * self.sp * sz_c) + \\\n",
    "                   4 * self.gk * np.imag(self.a * np.conjugate(self.sz_sm_d) + \\\n",
    "                    self.a_sz * sp_c + self.sz * a_sp_c - 2 * self.a * self.sz * sp_c) -\n",
    "                   self.gamma*(sz_mat_c + sz_mat_r + 2 * self.sz_sz_d))\n",
    "        np.fill_diagonal(d, 0)\n",
    "        return d\n",
    "\n",
    "    def cal_dsz_sm_d(self):\n",
    "        ad = np.conjugate(self.a)\n",
    "        N = np.size(self.sm)\n",
    "        w_spin_c = np.vstack(self.w_spin)\n",
    "        sz_c = np.vstack(self.sz)\n",
    "        sm_c = np.vstack(self.sm)\n",
    "        a_sm_c = np.vstack(self.a_sm)\n",
    "        a_sz_c = np.vstack(self.a_sz)\n",
    "        ad_sm = np.conjugate(self.a_sp)\n",
    "        ad_sm_c = np.vstack(self.ad_sm)\n",
    "        sm_mat_c = np.tile(self.sm_c, N)\n",
    "\n",
    "        d = (-1j * w_spin_c * self.sz_sm_d\\\n",
    "                    + 1j * self.gk * (self.a * self.sz_sz_d + self.a_sz * sz_c + a_sz_c * self.sz\\\n",
    "                   - 2 * self.a * self.sz * sz_c) - 2j * self.gk * ((self.a * self.sp_sm_d + self.a_sp * sm_c + a_sm_c * self.sp - 2 * self.a * self.sp * sm_c)\\\n",
    "                   -(ad * self.sm_sm_d + self.ad_sm * sm_c + ad_sm_c * self.sm - 2 * self.ad * self.sm *sm_c))\\\n",
    "                   -self.gamma * (sm_mat_c + self.sz_sm_d))\n",
    "        np.fill_diagonal(d, 0)\n",
    "        return d\n",
    "\n",
    "    def cal_dsp_sm_d(self):\n",
    "        ad = np.conjugate(self.a)\n",
    "        w_spin_c = np.vstack(self.w_spin)\n",
    "        sp_sz_d = np.conjugate(self.sz_sm_d).T\n",
    "        ad_sz = np.conjugate(self.a_sz)\n",
    "        ad_sm_c = np.conjugate(self.a_sp).T\n",
    "        sz_c = np.vstack(self.sz)\n",
    "        sm_c = np.vstack(self.sm)\n",
    "        a_sz_c = np.vstack(self.a_sz)\n",
    "        d = (-1j * (w_spin_c - np.conjugate(self.w_spin) * self.sp_sm_d + 1j * self.gk*\\\n",
    "                    (self.a * self.sp_sz_d) + self.a_sp * sz_c + a_sz_c * self.sz - 2 * self.a * self.sp * sz_c)-1j * self.gk *\\\n",
    "                    (ad * self.sz_sm_d + ad_sz * sm_c + ad_sm_c * self.sz - 2 * self.ad * self.sz * sm_c))\n",
    "        np.fill_diagonal(d,0)\n",
    "        return d\n",
    "    \n",
    "    def bound(self, ub, val, val_pre):\n",
    "        \n",
    "        # val: the newly evaluated expectation of increments\n",
    "        # val_pre: the expectation of increment from last iteration\n",
    "        \n",
    "        val_abs = np.abs(val)\n",
    "        if val_abs > abs(ub):\n",
    "            return val_pre\n",
    "        else:\n",
    "            return val\n",
    "\n",
    "    ###########################################################################################################################\n",
    "        # Time evolution \n",
    "    ###########################################################################################################################\n",
    "        \n",
    "    def update(self):\n",
    "        n_sz = np.zeros(self.intervals, dtype=np.cfloat)\n",
    "        n_ada = np.zeros(self.intervals, dtype=np.cfloat)\n",
    "        start = time.time()\n",
    "        t = 0 # not used, positional variable\n",
    "        for i in range(self.intervals):\n",
    "            self.F_t = self.pulse[i]\n",
    "            #n_sz[i] = float(self.sz)\n",
    "            #n_ada[i] = self.ada\n",
    "            self.da = self.cal_da() * self.dt\n",
    "            self.dada = self.cal_dada() * self.dt\n",
    "            self.da2 = self.cal_da2() * self.dt\n",
    "            self.dsm = self.cal_dsm() * self.dt\n",
    "            self.dsz = self.cal_dsz() * self.dt\n",
    "            self.da_sz = self.cal_da_sz() * self.dt\n",
    "            self.da_sm = self.cal_da_sm() * self.dt\n",
    "            self.da_sp = self.cal_da_sp() * self.dt\n",
    "            self.dsm_sz_s = self.cal_dsm_sz_s() * self.dt\n",
    "            self.dsm_sp_s = self.cal_dsm_sp_s() * self.dt\n",
    "            self.dsm_sm_s = self.cal_dsm_sm_s() * self.dt\n",
    "            self.dsz_sz_s = self.cal_dsz_sz_s() * self.dt\n",
    "            if self.k > 1:\n",
    "                self.dsm_sm_d = self.cal_dsm_sm_d() * self.dt\n",
    "                self.dsz_sz_d = self.cal_dsz_sz_d() * self.dt\n",
    "                self.dsz_sm_d = self.cal_dsz_sm_d() * self.dt\n",
    "                self.dsp_sm_d = self.cal_dsp_sm_d() * self.dt\n",
    "                \n",
    "            self.a = self.bound(self.N_class, self.a + self.da + .5* self.cal_dda() * self.Int_2nd * self.dt**2, self.a)\n",
    "            self.ada = self.bound(self.N_class, self.ada + self.dada + .5*self.cal_ddada() * self.Int_2nd  * self.dt**2, self.ada)\n",
    "            if self.ada < 0:\n",
    "                self.ada = 0\n",
    "            self.a2 = self.bound(self.a**2, self.a2 + self.da2 + .5*self.cal_dda2() * self.Int_2nd  * self.dt**2, self.a2)\n",
    "            self.sm = self.bound(1, self.sm + self.dsm + .5*self.cal_ddsm() * self.Int_2nd  * self.dt**2, self.sm)\n",
    "            self.sz = self.bound(1, self.sz + self.dsz + .5*self.cal_ddsz() * self.Int_2nd  * self.dt**2, self.sz)\n",
    "            self.a_sz += self.da_sz + .5*self.cal_dda_sz() * self.Int_2nd  * self.dt**2\n",
    "            self.a_sm += self.da_sm + .5*self.cal_dda_sm() * self.Int_2nd  * self.dt**2\n",
    "            self.a_sp += self.da_sp + .5*self.cal_dda_sp() * self.Int_2nd  * self.dt**2\n",
    "            # self.sm_sz_s = self.bound(1, self.dsm_sz_s + .5*self.cal_ddsm_sz_s() * self.Int_2nd  * self.dt**2, self.sm_sz_s)\n",
    "            # self.sm_sp_s = self.bound(1, self.dsm_sp_s + .5*self.cal_ddsm_sp_s() * self.Int_2nd  * self.dt**2, self.sm_sp_s)\n",
    "            # self.sm_sm_s = self.bound(1, self.dsm_sm_s + .5*self.cal_ddsm_sm_s() * self.Int_2nd  * self.dt**2, self.sm_sm_s)\n",
    "            self.sm_sz_s += self.dsm_sz_s + .5*self.cal_ddsm_sz_s() * self.Int_2nd  * self.dt**2\n",
    "            self.sm_sp_s += self.dsm_sp_s + .5*self.cal_ddsm_sp_s() * self.Int_2nd  * self.dt**2\n",
    "            self.sm_sm_s += self.dsm_sm_s + .5*self.cal_ddsm_sm_s() * self.Int_2nd  * self.dt**2\n",
    "            self.sz_sz_s = self.bound(1, self.dsz_sz_s + .5*self.cal_ddsz_sz_s() * self.Int_2nd  * self.dt**2, self.sz_sz_s)\n",
    "            \n",
    "        end = time.time()\n",
    "        print(f'Run time: {end-start}s')\n",
    "        return [n_sz, n_ada]"
   ]
  },
  {
   "cell_type": "markdown",
   "id": "31afa06f-a977-4f1c-8614-d9a6c5222de7",
   "metadata": {
    "jp-MarkdownHeadingCollapsed": true,
    "tags": []
   },
   "source": [
    "## Mean-field equations (one spin class)"
   ]
  },
  {
   "cell_type": "code",
   "execution_count": 16,
   "id": "07a52e34-5990-49f1-9171-6ccfc9c7bb77",
   "metadata": {},
   "outputs": [],
   "source": [
    "class mean_field_sys:\n",
    "    \n",
    "    def __init__(self, N_cav, delta_a,  delta_c, gk, gamma, Gamma, kappa, F, end, dt, N_class, E_spin=True, Int_2nd=False, sci=True):\n",
    "        self.k = len(N_class)\n",
    "        self.N_class = N_class # Distirbution of spins in each class, k-D array\n",
    "        self.N_cav = N_cav\n",
    "        self.delta_a = delta_a\n",
    "        self.delta_c = delta_c\n",
    "        self.gamma = gamma\n",
    "        self.Gamma = Gamma\n",
    "        self.kappa = kappa\n",
    "        self.w_spin = self.delta_a - 1j*(self.gamma/2. + self.Gamma)\n",
    "        self.w_cav = self.delta_c - 1j*self.kappa/2.\n",
    "        self.E_spin = E_spin\n",
    "        if Int_2nd == True:\n",
    "            self.Int_2nd = 1\n",
    "        else:\n",
    "            self.Int_2nd = 0\n",
    "        self.sci = sci\n",
    "        self.end = end\n",
    "        self.dt = dt\n",
    "        self.gk = gk\n",
    "       \n",
    "        self.intervals = int(self.end/self.dt)\n",
    "        self.tlist = np.linspace(0, self.end, self.intervals)\n",
    "        self.tprep = 0.2 #us*endtime\n",
    "        self.pulse = F*np.append(np.ones(int(self.intervals*self.tprep)), np.zeros(int(self.intervals*(1-self.tprep))))\n",
    "        self.F_t = self.pulse[0]\n",
    "\n",
    "    ###########################################################################################################################\n",
    "        # Initialization of operators\n",
    "    ###########################################################################################################################       \n",
    "        \n",
    "        self.a = 0+0j\n",
    "        self.da = 0.\n",
    "        self.ada = 0.\n",
    "        self.dada = 0.\n",
    "        self.a2 = 0.\n",
    "        self.da2 = 0.\n",
    "        self.sm = np.zeros(self.k, dtype=np.cfloat) \n",
    "        self.dsm = np.zeros(self.k, dtype=np.cfloat) \n",
    "        self.sp = np.zeros(self.k, dtype=np.cfloat)\n",
    "        self.dsp = np.zeros(self.k, dtype=np.cfloat) \n",
    "        if E_spin:\n",
    "            self.sz = np.ones(self.k, dtype=np.cfloat) # Added self.N_class*\n",
    "        else:\n",
    "            self.sz = -np.ones(self.k, dtype=np.cfloat)\n",
    "        self.dsz = np.zeros(self.k, dtype=np.cfloat)\n",
    "\n",
    "        self.a_sz = np.zeros(self.k, dtype=np.cfloat) # Product of expectation value of a and sz\n",
    "        self.da_sz = np.zeros(self.k, dtype=np.cfloat) \n",
    "        self.a_sm = np.zeros(self.k, dtype=np.cfloat)\n",
    "        self.da_sm = np.zeros(self.k, dtype=np.cfloat) \n",
    "        self.a_sp = np.zeros(self.k, dtype=np.cfloat)\n",
    "        self.da_sp = np.zeros(self.k, dtype=np.cfloat) \n",
    "        \n",
    "        # For different spins in then same class, each pair is equivalent\n",
    "        self.sm_sz_s = np.zeros(self.k, dtype=np.cfloat)\n",
    "        self.dsm_sz_s = np.zeros(self.k, dtype=np.cfloat) \n",
    "        self.sm_sp_s = np.zeros(self.k, dtype=np.cfloat)\n",
    "        self.dsm_sp_s = np.zeros(self.k, dtype=np.cfloat) \n",
    "        self.sm_sm_s = np.zeros(self.k, dtype=np.cfloat)\n",
    "        self.dsm_sm_s = np.zeros(self.k, dtype=np.cfloat) \n",
    "        self.sz_sz_s = np.ones(self.k, dtype=np.cfloat)\n",
    "        self.dsz_sz_s = np.zeros(self.k, dtype=np.cfloat) \n",
    "\n",
    "        # Different class all set to 0, ignore if there is only one class\n",
    "        self.sm_sm_d = np.zeros((self.k, self.k), dtype=np.cfloat)\n",
    "        self.dsm_sm_d = np.zeros((self.k, self.k), dtype=np.cfloat)\n",
    "        if self.k>1:\n",
    "            self.sz_sz_d = np.ones((self.k, self.k), dtype=np.cfloat)\n",
    "        else:\n",
    "            self.sz_sz_d = np.zeros((self.k, self.k), dtype=np.cfloat)\n",
    "        self. dsz_sz_d = np.zeros((self.k, self.k), dtype=np.cfloat)\n",
    "        np.fill_diagonal(self.sz_sz_d, 0)\n",
    "        self.sz_sm_d = np.zeros((self.k, self.k), dtype=np.cfloat)\n",
    "        self.dsz_sm_d = np.zeros((self.k, self.k), dtype=np.cfloat)\n",
    "        self.sp_sm_d = np.zeros((self.k, self.k), dtype=np.cfloat)\n",
    "        self.dsp_sm_d = np.zeros((self.k, self.k), dtype=np.cfloat)\n",
    "        \n",
    "\n",
    "    def __str__(self):\n",
    "        if self.E_spin:\n",
    "            return f'Mean-field solver for {self.N_spin} excited spins, Fock states = {self.N_cav}'\n",
    "        else:\n",
    "            return f'Mean-field solver for {self.N_spin} ground state spins, Fock states = {self.N_cav}'\n",
    "    \n",
    "    ###########################################################################################################################\n",
    "        # Computing 1st and 2nd order differentials\n",
    "    ###########################################################################################################################\n",
    "    \n",
    "    \n",
    "    def cal_da(self):\n",
    "        return (-1j * self.w_cav * self.a - 1j * self.gk * sum(self.N_class * self.sm) - 1j * self.F_t) \n",
    "    \n",
    "    def cal_dda(self):\n",
    "        return (-1j * self.w_cav * self.da - 1j * self.gk * sum(self.N_class * self.dsm))\n",
    "\n",
    "    def cal_da2(self):\n",
    "        return (-2j * self.w_cav * self.a2 - 2j * self.gk * np.sum(self.N_class * self.a_sm) - 2j * self.F_t * self.a) \n",
    "    \n",
    "    def cal_dda2(self):\n",
    "        return (-2j * self.w_cav * self.da2 - 2j * self.gk * np.sum(self.N_class * self.da_sm) - 2j * self.F_t * self.da)\n",
    "\n",
    "    def cal_dada(self):\n",
    "        return (-2 * self.gk * np.sum(self.N_class * np.imag(self.a_sp)) + 2 * self.F_t * np.imag(self.a) - self.kappa * self.ada)\n",
    "    \n",
    "    def cal_ddada(self):\n",
    "        return (-2 * self.gk * np.sum(self.N_class * np.imag(self.da_sp)) + 2 * self.F_t * np.imag(self.da) - self.kappa * self.ada)\n",
    "\n",
    "    def cal_dsm(self):\n",
    "        return (-1j * self.w_spin * self.sm + 1j * self.a_sz * self.gk)\n",
    "\n",
    "    def cal_ddsm(self):\n",
    "        return (-1j * self.w_spin * self.dsm + 1j * self.da_sz * self.gk)\n",
    "\n",
    "    def cal_dsz(self):\n",
    "        return (4 * self.gk * np.imag(self.a_sp) - self.gamma * (1 + self.sz))\n",
    "    \n",
    "    def cal_ddsz(self):\n",
    "        return (4 * self.gk * np.imag(self.da_sp) - self.gamma * self.dsz)\n",
    "\n",
    "    def cal_da_sz(self):\n",
    "        return (-1j * self.w_cav * self.a_sz - 1j * self.gk * (-self.sm + (self.N_class-1) * self.sm_sz_s) - \\\n",
    "                2j * self.gk * ((self.a2 * self.sp + 2 * self.a * self.a_sp - 2 * self.a**2 * self.sp) - (np.conjugate(self.a) * self.a_sm + self.a * np.conjugate(self.a_sp) +\\\n",
    "                 self.ada * self.sm - 2*np.abs(self.a)**2 * self.sm)) - self.gamma * (self.a + self.a_sz) - 1j * self.F_t * self.sz - \\\n",
    "                1j * self.gk * np.sum(self.sz_sm_d * self.N_class[..., None], axis=0)) # Assuming that N is a row vector of size k\n",
    "\n",
    "    def cal_dda_sz(self):\n",
    "        return (-1j * self.w_cav * self.da_sz - 1j * self.gk * (-self.dsm + (self.N_class-1) * self.dsm_sz_s) - \\\n",
    "                2j * self.gk * ((self.da2 * self.sp + self.da2 * self.dsp +  2 * (self.da * self.a_sp + self.a * self.da_sp) - 2 * (self.a**2 * self.dsp + 2*self.a*self.da*self.sp))\\\n",
    "                - (np.conjugate(self.da) * self.a_sm + np.conjugate(self.a) * self.da_sm + self.da * np.conjugate(self.a_sp) + self.a * np.conjugate(self.da_sp) +\\\n",
    "                 self.dada * self.sm + self.ada * self.dsm - 2*(np.abs(self.a)**2 * self.dsm + np.abs(self.a)*2 * self.da * self.sm)))\\\n",
    "                - self.gamma * (self.da + self.da_sz) - 1j * self.F_t * self.dsz - \\\n",
    "                1j * self.gk * np.sum(self.dsz_sm_d * self.N_class[..., None], axis=0))\n",
    "\n",
    "    def cal_da_sm(self):\n",
    "        return (-1j * (self.w_spin + self.w_cav) * self.a_sm - 1j * self.gk * ((self.N_class-1) * self.sm_sm_s - 2 * self.a_sz * self.a - self.a2 * self.sz\\\n",
    "                + 2 * self.a**2 * self.sz) - 1j * self.F_t * self.sm - 1j * self.gk * np.sum(self.sm_sm_d * self.N_class[..., None], axis=0))\n",
    "    \n",
    "    def cal_dda_sm(self):\n",
    "        return (-1j * (self.w_spin + self.w_cav) * self.da_sm - 1j * self.gk * ((self.N_class-1) * self.dsm_sm_s - 2 * (self.da_sz * self.a + self.a_sz * self.da)\\\n",
    "                - (self.da2 * self.sz + self.a2 * self.dsz)+ 2 * (self.a**2 * self.dsz + self.a*2 * self.da * self.sz)) - 1j * self.F_t * self.dsm\\\n",
    "                - 1j * self.gk * np.sum(self.dsm_sm_d * self.N_class[..., None], axis=0))\n",
    "\n",
    "    \n",
    "    def cal_da_sp(self):\n",
    "        return (1j * (np.conj(self.w_spin) - self.w_cav) * self.a_sp - .5j * self.gk * (1-self.sz) - 1j * self.gk * (self.N_class-1) * self.sm_sp_s\\\n",
    "                -1j * self.gk * np.sum(self.sp_sm_d * self.N_class[..., None], axis=0) - 1j * self.gk * ((1+self.ada) * self.sz + 2 * np.real(self.a * np.conjugate(self.a_sz)) - 2 * np.abs(self.a)**2 * self.sz)\\\n",
    "                -1j * self.F_t * self.sp)\n",
    "    \n",
    "    def cal_dda_sp(self):\n",
    "        return (1j * (np.conj(self.w_spin) - self.w_cav) * self.da_sp + .5j * self.gk * self.dsz - 1j * self.gk * (self.N_class-1) * self.dsm_sp_s\\\n",
    "                -1j * self.gk * np.sum(self.dsp_sm_d * self.N_class[..., None], axis=0) - 1j * self.gk * ((1+self.ada) * self.dsz + self.sz * self.dada \\\n",
    "                + 2 * np.real(self.da * np.conjugate(self.a_sz) + self.a * np.conjugate(self.da_sz)) - 2 * (np.abs(self.a)**2 * self.dsz + np.abs(self.a)*2 * self.da * self.sz))\\\n",
    "                -1j * self.F_t * self.dsp)\n",
    "\n",
    "    \n",
    "    # Spin-spin interactions from the same class\n",
    "    def cal_dsm_sz_s(self):\n",
    "        ad = np.conjugate(self.a)\n",
    "        return (-1j * self.w_spin * self.sm_sz_s + 1j * self.gk * (self.a * self.sz_sz_s + 2 * self.sz * self.a_sz - 2 * self.a * self.sz**2)- 2j * self.gk\\\n",
    "            *(self.a_sm * self.sp + self.a_sp * self.sm + self.a * self.sm_sp_s - 2 * self.a * self.sm * self.sp - (ad * self.sm_sm_s + 2*np.conjugate(self.a_sp) * self.sm\\\n",
    "            - 2 * ad * self.sm**2)) - self.gamma*(self.sm + self.sm_sz_s))\n",
    "    \n",
    "    def cal_ddsm_sz_s(self):\n",
    "        return (-1j * self.w_spin * self.dsm_sz_s + 1j * self.gk * (self.da * self.sz_sz_s + self.a * self.dsz_sz_s + 2 * self.dsz * self.a_sz + 2 * self.sz * self.da_sz\\\n",
    "                - 2 * self.da * self.sz**2 - 2 * self.a * self.sz*2 * self.dsz)- 2j * self.gk *(self.da_sm * self.sp + self.a_sm * self.dsp + \\\n",
    "                self.da_sp * self.sm + self.a_sp * self.dsm + self.da * self.sm_sp_s + self.a * self.dsm_sp_s - 2 * (self.da * self.sm * self.sp + self.a * self.dsm * self.sp + self.a * self.sm * self.dsp)\\\n",
    "                - (np.conjugate(self.da) * self.sm_sm_s + np.conjugate(self.a) * self.dsm_sm_s + 2*np.conjugate(self.da_sp) * self.sm + 2*np.conjugate(self.a_sp) * self.dsm\\\n",
    "                - 2 * (np.conjugate(self.da) * self.sm**2 + np.conjugate(self.a) * self.sm*2 * self.dsm))) - self.gamma*(self.dsm + self.dsm_sz_s))\n",
    "\n",
    "    def cal_dsm_sp_s(self):\n",
    "        return (2 * np.imag(self.w_spin) * self.sm_sp_s + \\\n",
    "                2* self.gk * np.imag(self.sz * np.conjugate(self.a_sp) + \\\n",
    "                np.conjugate(self.a) * self.sm_sz_s + self.sm * np.conjugate(self.a_sz)-\\\n",
    "                2 * np.conjugate(self.a)* self.sm * self.sz))\n",
    "    \n",
    "    def cal_ddsm_sp_s(self):\n",
    "        return (2 * np.imag(self.w_spin) * self.dsm_sp_s + \\\n",
    "                2* self.gk * np.imag(self.dsz * np.conjugate(self.a_sp) + self.sz * np.conjugate(self.da_sp) +\\\n",
    "                np.conjugate(self.da) * self.sm_sz_s + np.conjugate(self.a) * self.dsm_sz_s + self.dsm * np.conjugate(self.a_sz) + self.sm * np.conjugate(self.da_sz)-\\\n",
    "                2 * (np.conjugate(self.da)* self.sm * self.sz + np.conjugate(self.a)* self.dsm * self.sz + np.conjugate(self.a)* self.sm * self.dsz)))\n",
    "\n",
    "    def cal_dsm_sm_s(self):\n",
    "        return (-2j * self.w_spin * self.sm_sm_s + 2j * self.gk * (self.a * self.sm_sz_s + self.a_sm * self.sz + self.a_sz * self.sm-\\\n",
    "                    2 * self.a * self.sm * self.sz))\n",
    "    \n",
    "    def cal_ddsm_sm_s(self):\n",
    "        return (-2j * self.w_spin * self.dsm_sm_s + 2j * self.gk * (self.da * self.sm_sz_s + self.a * self.dsm_sz_s + self.da_sm * self.sz + self.a_sm * self.dsz \\\n",
    "                + self.da_sz * self.sm + self.a_sz * self.dsm - 2 * (self.da * self.sm * self.sz + self.a * self.dsm * self.sz + self.a * self.sm * self.dsz )))\n",
    "\n",
    "    def cal_dsz_sz_s(self):\n",
    "        return (8 * self.gk * np.imag(self.a * np.conjugate(self.sm_sz_s) + self.a_sp * self.sz + self.a_sz * self.sp - 2 * self.a * self.sp * self.sz) - \\\n",
    "                   2 *self.gamma * (self.sz + self.sz_sz_s))\n",
    "    \n",
    "    def cal_ddsz_sz_s(self):\n",
    "        return (8 * self.gk * np.imag(self.da * np.conjugate(self.sm_sz_s) + self.a * np.conjugate(self.dsm_sz_s) + self.da_sp * self.sz + self.a_sp * self.dsz + \\\n",
    "                self.da_sz * self.sp + self.a_sz * self.dsp - 2 * (self.da * self.sp * self.sz + self.a * self.dsp * self.sz + self.a * self.sp * self.dsz)) - \\\n",
    "                   2 *self.gamma * (self.dsz + self.dsz_sz_s))\n",
    "\n",
    "    \n",
    "    # Spin-spin interactions from a different class\n",
    "    def cal_dsm_sm_d(self):\n",
    "        N = np.size(self.w_spin)\n",
    "        w_spin_r = np.tile(self.w_spin, N).reshape(N, N)\n",
    "        w_spin_c = w_spin_r.T\n",
    "        a_sz_c = np.vstack(self.a_sz)\n",
    "        sm_c = np.vstack(self.sm)\n",
    "        a_sm_c = np.vstack(self.a_sm)\n",
    "        sz_c = np.vstack(self.sz)\n",
    "\n",
    "        d = (-1j * (w_spin_r + w_spin_c) * self.sm_sm_d + \\\n",
    "                   1j * self.gk * (self.a * self.sz_sm_d + sm_c * self.a_sz + self.sz * a_sm_c - 2 * self.a * self.sz * sm_c)\\\n",
    "                   + 1j * self.gk * (self.a * self.sz_sm_d.T + self.sm * a_sz_c + sz_c * self.a_sm - 2 * self.sm * sz_c))\n",
    "        np.fill_diagonal(d, 0)\n",
    "        return d\n",
    "\n",
    "    def cal_dsz_sz_d(self):\n",
    "        N = np.size(self.sz)\n",
    "        a_sz_c = np.vstack(self.a_sz)\n",
    "        a_sp_c = np.vstack(self.a_sp)\n",
    "        sp_c = np.vstack(self.sp)\n",
    "        sz_c = np.vstack(self.sz)\n",
    "        sz_mat_c = np.tile(sz_c, N)\n",
    "        sz_mat_r = np.tile(self.sz, N).reshape(N, N)\n",
    "\n",
    "        d = (4 * self.gk * np.imag(self.a * np.conjugate(self.sz_sm_d).T + \\\n",
    "                    self.sp * a_sz_c + self.a_sp * sz_c - 2 * self.a * self.sp * sz_c) + \\\n",
    "                   4 * self.gk * np.imag(self.a * np.conjugate(self.sz_sm_d) + \\\n",
    "                    self.a_sz * sp_c + self.sz * a_sp_c - 2 * self.a * self.sz * sp_c) -\n",
    "                   self.gamma*(sz_mat_c + sz_mat_r + 2 * self.sz_sz_d))\n",
    "        np.fill_diagonal(d, 0)\n",
    "        return d\n",
    "\n",
    "    def cal_dsz_sm_d(self):\n",
    "        ad = np.conjugate(self.a)\n",
    "        N = np.size(self.sm)\n",
    "        w_spin_c = np.vstack(self.w_spin)\n",
    "        sz_c = np.vstack(self.sz)\n",
    "        sm_c = np.vstack(self.sm)\n",
    "        a_sm_c = np.vstack(self.a_sm)\n",
    "        a_sz_c = np.vstack(self.a_sz)\n",
    "        ad_sm = np.conjugate(self.a_sp)\n",
    "        ad_sm_c = np.vstack(self.ad_sm)\n",
    "        sm_mat_c = np.tile(self.sm_c, N)\n",
    "\n",
    "        d = (-1j * w_spin_c * self.sz_sm_d\\\n",
    "                    + 1j * self.gk * (self.a * self.sz_sz_d + self.a_sz * sz_c + a_sz_c * self.sz\\\n",
    "                   - 2 * self.a * self.sz * sz_c) - 2j * self.gk * ((self.a * self.sp_sm_d + self.a_sp * sm_c + a_sm_c * self.sp - 2 * self.a * self.sp * sm_c)\\\n",
    "                   -(ad * self.sm_sm_d + self.ad_sm * sm_c + ad_sm_c * self.sm - 2 * self.ad * self.sm *sm_c))\\\n",
    "                   -self.gamma * (sm_mat_c + self.sz_sm_d))\n",
    "        np.fill_diagonal(d, 0)\n",
    "        return d\n",
    "\n",
    "    def cal_dsp_sm_d(self):\n",
    "        ad = np.conjugate(self.a)\n",
    "        w_spin_c = np.vstack(self.w_spin)\n",
    "        sp_sz_d = np.conjugate(self.sz_sm_d).T\n",
    "        ad_sz = np.conjugate(self.a_sz)\n",
    "        ad_sm_c = np.conjugate(self.a_sp).T\n",
    "        sz_c = np.vstack(self.sz)\n",
    "        sm_c = np.vstack(self.sm)\n",
    "        a_sz_c = np.vstack(self.a_sz)\n",
    "        d = (-1j * (w_spin_c - np.conjugate(self.w_spin) * self.sp_sm_d + 1j * self.gk*\\\n",
    "                    (self.a * self.sp_sz_d) + self.a_sp * sz_c + a_sz_c * self.sz - 2 * self.a * self.sp * sz_c)-1j * self.gk *\\\n",
    "                    (ad * self.sz_sm_d + ad_sz * sm_c + ad_sm_c * self.sz - 2 * self.ad * self.sz * sm_c))\n",
    "        np.fill_diagonal(d,0)\n",
    "        return d\n",
    "    \n",
    "    def bound(self, ub, val, val_pre):\n",
    "        \n",
    "        # val: the newly evaluated expectation of increments\n",
    "        # val_pre: the expectation of increment from last iteration\n",
    "        \n",
    "        val_abs = np.abs(val)\n",
    "        if val_abs > abs(ub):\n",
    "            return val_pre\n",
    "        else:\n",
    "            return val\n",
    "\n",
    "    ###########################################################################################################################\n",
    "        # Time evolution \n",
    "    ###########################################################################################################################\n",
    "        \n",
    "    def update(self):\n",
    "        n_sz = np.zeros(self.intervals, dtype=np.cfloat)\n",
    "        n_ada = np.zeros(self.intervals, dtype=np.cfloat)\n",
    "        start = time.time()\n",
    "        t = 0 # not used, positional variable\n",
    "        for i in range(self.intervals):\n",
    "            self.F_t = self.pulse[i]\n",
    "            #n_sz[i] = float(self.sz)\n",
    "            #n_ada[i] = self.ada\n",
    "            self.da = self.cal_da() * self.dt\n",
    "            self.dada = self.cal_dada() * self.dt\n",
    "            self.da2 = self.cal_da2() * self.dt\n",
    "            self.dsm = self.cal_dsm() * self.dt\n",
    "            self.dsz = self.cal_dsz() * self.dt\n",
    "            self.da_sz = self.cal_da_sz() * self.dt\n",
    "            self.da_sm = self.cal_da_sm() * self.dt\n",
    "            self.da_sp = self.cal_da_sp() * self.dt\n",
    "            self.dsm_sz_s = self.cal_dsm_sz_s() * self.dt\n",
    "            self.dsm_sp_s = self.cal_dsm_sp_s() * self.dt\n",
    "            self.dsm_sm_s = self.cal_dsm_sm_s() * self.dt\n",
    "            self.dsz_sz_s = self.cal_dsz_sz_s() * self.dt\n",
    "            if self.k > 1:\n",
    "                self.dsm_sm_d = self.cal_dsm_sm_d() * self.dt\n",
    "                self.dsz_sz_d = self.cal_dsz_sz_d() * self.dt\n",
    "                self.dsz_sm_d = self.cal_dsz_sm_d() * self.dt\n",
    "                self.dsp_sm_d = self.cal_dsp_sm_d() * self.dt\n",
    "                \n",
    "            self.a = self.bound(self.N_class, self.a + self.da + .5* self.cal_dda() * self.Int_2nd * self.dt**2, self.a)\n",
    "            self.ada = self.bound(self.N_class, self.ada + self.dada + .5*self.cal_ddada() * self.Int_2nd  * self.dt**2, self.ada)\n",
    "            if self.ada < 0:\n",
    "                self.ada = 0\n",
    "            self.a2 = self.bound(self.a**2, self.a2 + self.da2 + .5*self.cal_dda2() * self.Int_2nd  * self.dt**2, self.a2)\n",
    "            self.sm = self.bound(1, self.sm + self.dsm + .5*self.cal_ddsm() * self.Int_2nd  * self.dt**2, self.sm)\n",
    "            self.sz = self.bound(1, self.sz + self.dsz + .5*self.cal_ddsz() * self.Int_2nd  * self.dt**2, self.sz)\n",
    "            self.a_sz += self.da_sz + .5*self.cal_dda_sz() * self.Int_2nd  * self.dt**2\n",
    "            self.a_sm += self.da_sm + .5*self.cal_dda_sm() * self.Int_2nd  * self.dt**2\n",
    "            self.a_sp += self.da_sp + .5*self.cal_dda_sp() * self.Int_2nd  * self.dt**2\n",
    "            # self.sm_sz_s = self.bound(1, self.dsm_sz_s + .5*self.cal_ddsm_sz_s() * self.Int_2nd  * self.dt**2, self.sm_sz_s)\n",
    "            # self.sm_sp_s = self.bound(1, self.dsm_sp_s + .5*self.cal_ddsm_sp_s() * self.Int_2nd  * self.dt**2, self.sm_sp_s)\n",
    "            # self.sm_sm_s = self.bound(1, self.dsm_sm_s + .5*self.cal_ddsm_sm_s() * self.Int_2nd  * self.dt**2, self.sm_sm_s)\n",
    "            self.sm_sz_s += self.dsm_sz_s + .5*self.cal_ddsm_sz_s() * self.Int_2nd  * self.dt**2\n",
    "            self.sm_sp_s += self.dsm_sp_s + .5*self.cal_ddsm_sp_s() * self.Int_2nd  * self.dt**2\n",
    "            self.sm_sm_s += self.dsm_sm_s + .5*self.cal_ddsm_sm_s() * self.Int_2nd  * self.dt**2\n",
    "            self.sz_sz_s = self.bound(1, self.dsz_sz_s + .5*self.cal_ddsz_sz_s() * self.Int_2nd  * self.dt**2, self.sz_sz_s)\n",
    "            \n",
    "        end = time.time()\n",
    "        print(f'Run time: {end-start}s')\n",
    "        return [n_sz, n_ada]"
   ]
  },
  {
   "cell_type": "code",
   "execution_count": 17,
   "id": "d3c7e130-2a98-4c9b-b346-cee457e2a0b2",
   "metadata": {},
   "outputs": [
    {
     "ename": "TypeError",
     "evalue": "dispatcher for __array_function__ did not return an iterable",
     "output_type": "error",
     "traceback": [
      "\u001b[1;31m---------------------------------------------------------------------------\u001b[0m",
      "\u001b[1;31mTypeError\u001b[0m                                 Traceback (most recent call last)",
      "\u001b[1;32m~\\AppData\\Local\\Temp\\ipykernel_7312\\2000393012.py\u001b[0m in \u001b[0;36m<module>\u001b[1;34m\u001b[0m\n\u001b[0;32m      1\u001b[0m \u001b[0mmean3\u001b[0m \u001b[1;33m=\u001b[0m \u001b[0mmean_field_sys\u001b[0m\u001b[1;33m(\u001b[0m\u001b[1;36m2\u001b[0m\u001b[1;33m,\u001b[0m \u001b[1;36m20\u001b[0m\u001b[1;33m,\u001b[0m \u001b[0mdelta_a\u001b[0m\u001b[1;33m,\u001b[0m \u001b[0mdelta_c\u001b[0m\u001b[1;33m,\u001b[0m \u001b[0mgk\u001b[0m\u001b[1;33m,\u001b[0m \u001b[1;36m0\u001b[0m\u001b[1;33m,\u001b[0m \u001b[1;36m0\u001b[0m\u001b[1;33m,\u001b[0m \u001b[0mkappa\u001b[0m\u001b[1;33m/\u001b[0m\u001b[1;36m5\u001b[0m\u001b[1;33m,\u001b[0m \u001b[1;36m1\u001b[0m\u001b[1;33m,\u001b[0m \u001b[1;36m4.\u001b[0m\u001b[1;33m/\u001b[0m\u001b[0mgk\u001b[0m\u001b[1;33m,\u001b[0m \u001b[0mdt\u001b[0m\u001b[1;33m/\u001b[0m\u001b[1;36m10\u001b[0m\u001b[1;33m,\u001b[0m \u001b[0mN_class\u001b[0m \u001b[1;33m=\u001b[0m \u001b[0mnp\u001b[0m\u001b[1;33m.\u001b[0m\u001b[0masarray\u001b[0m\u001b[1;33m(\u001b[0m\u001b[1;33m[\u001b[0m\u001b[1;36m4\u001b[0m\u001b[1;33m,\u001b[0m\u001b[1;36m5\u001b[0m\u001b[1;33m]\u001b[0m\u001b[1;33m)\u001b[0m\u001b[1;33m)\u001b[0m\u001b[1;33m\u001b[0m\u001b[1;33m\u001b[0m\u001b[0m\n\u001b[1;32m----> 2\u001b[1;33m \u001b[1;33m[\u001b[0m\u001b[0mn_sz\u001b[0m\u001b[1;33m,\u001b[0m \u001b[0mn_ada\u001b[0m\u001b[1;33m]\u001b[0m \u001b[1;33m=\u001b[0m \u001b[0mmean3\u001b[0m\u001b[1;33m.\u001b[0m\u001b[0mupdate\u001b[0m\u001b[1;33m(\u001b[0m\u001b[1;33m)\u001b[0m\u001b[1;33m\u001b[0m\u001b[1;33m\u001b[0m\u001b[0m\n\u001b[0m",
      "\u001b[1;32m~\\AppData\\Local\\Temp\\ipykernel_7312\\1237137544.py\u001b[0m in \u001b[0;36mupdate\u001b[1;34m(self)\u001b[0m\n\u001b[0;32m    293\u001b[0m                 \u001b[0mself\u001b[0m\u001b[1;33m.\u001b[0m\u001b[0mdsm_sm_d\u001b[0m \u001b[1;33m=\u001b[0m \u001b[0mself\u001b[0m\u001b[1;33m.\u001b[0m\u001b[0mcal_dsm_sm_d\u001b[0m\u001b[1;33m(\u001b[0m\u001b[1;33m)\u001b[0m \u001b[1;33m*\u001b[0m \u001b[0mself\u001b[0m\u001b[1;33m.\u001b[0m\u001b[0mdt\u001b[0m\u001b[1;33m\u001b[0m\u001b[1;33m\u001b[0m\u001b[0m\n\u001b[0;32m    294\u001b[0m                 \u001b[0mself\u001b[0m\u001b[1;33m.\u001b[0m\u001b[0mdsz_sz_d\u001b[0m \u001b[1;33m=\u001b[0m \u001b[0mself\u001b[0m\u001b[1;33m.\u001b[0m\u001b[0mcal_dsz_sz_d\u001b[0m\u001b[1;33m(\u001b[0m\u001b[1;33m)\u001b[0m \u001b[1;33m*\u001b[0m \u001b[0mself\u001b[0m\u001b[1;33m.\u001b[0m\u001b[0mdt\u001b[0m\u001b[1;33m\u001b[0m\u001b[1;33m\u001b[0m\u001b[0m\n\u001b[1;32m--> 295\u001b[1;33m                 \u001b[0mself\u001b[0m\u001b[1;33m.\u001b[0m\u001b[0mdsz_sm_d\u001b[0m \u001b[1;33m=\u001b[0m \u001b[0mself\u001b[0m\u001b[1;33m.\u001b[0m\u001b[0mcal_dsz_sm_d\u001b[0m\u001b[1;33m(\u001b[0m\u001b[1;33m)\u001b[0m \u001b[1;33m*\u001b[0m \u001b[0mself\u001b[0m\u001b[1;33m.\u001b[0m\u001b[0mdt\u001b[0m\u001b[1;33m\u001b[0m\u001b[1;33m\u001b[0m\u001b[0m\n\u001b[0m\u001b[0;32m    296\u001b[0m                 \u001b[0mself\u001b[0m\u001b[1;33m.\u001b[0m\u001b[0mdsp_sm_d\u001b[0m \u001b[1;33m=\u001b[0m \u001b[0mself\u001b[0m\u001b[1;33m.\u001b[0m\u001b[0mcal_dsp_sm_d\u001b[0m\u001b[1;33m(\u001b[0m\u001b[1;33m)\u001b[0m \u001b[1;33m*\u001b[0m \u001b[0mself\u001b[0m\u001b[1;33m.\u001b[0m\u001b[0mdt\u001b[0m\u001b[1;33m\u001b[0m\u001b[1;33m\u001b[0m\u001b[0m\n\u001b[0;32m    297\u001b[0m \u001b[1;33m\u001b[0m\u001b[0m\n",
      "\u001b[1;32m~\\AppData\\Local\\Temp\\ipykernel_7312\\1237137544.py\u001b[0m in \u001b[0;36mcal_dsz_sm_d\u001b[1;34m(self)\u001b[0m\n\u001b[0;32m    226\u001b[0m         \u001b[0mad\u001b[0m \u001b[1;33m=\u001b[0m \u001b[0mnp\u001b[0m\u001b[1;33m.\u001b[0m\u001b[0mconjugate\u001b[0m\u001b[1;33m(\u001b[0m\u001b[0mself\u001b[0m\u001b[1;33m.\u001b[0m\u001b[0ma\u001b[0m\u001b[1;33m)\u001b[0m\u001b[1;33m\u001b[0m\u001b[1;33m\u001b[0m\u001b[0m\n\u001b[0;32m    227\u001b[0m         \u001b[0mN\u001b[0m \u001b[1;33m=\u001b[0m \u001b[0mnp\u001b[0m\u001b[1;33m.\u001b[0m\u001b[0msize\u001b[0m\u001b[1;33m(\u001b[0m\u001b[0mself\u001b[0m\u001b[1;33m.\u001b[0m\u001b[0msm\u001b[0m\u001b[1;33m)\u001b[0m\u001b[1;33m\u001b[0m\u001b[1;33m\u001b[0m\u001b[0m\n\u001b[1;32m--> 228\u001b[1;33m         \u001b[0mw_spin_c\u001b[0m \u001b[1;33m=\u001b[0m \u001b[0mnp\u001b[0m\u001b[1;33m.\u001b[0m\u001b[0mvstack\u001b[0m\u001b[1;33m(\u001b[0m\u001b[0mself\u001b[0m\u001b[1;33m.\u001b[0m\u001b[0mw_spin\u001b[0m\u001b[1;33m)\u001b[0m\u001b[1;33m\u001b[0m\u001b[1;33m\u001b[0m\u001b[0m\n\u001b[0m\u001b[0;32m    229\u001b[0m         \u001b[0msz_c\u001b[0m \u001b[1;33m=\u001b[0m \u001b[0mnp\u001b[0m\u001b[1;33m.\u001b[0m\u001b[0mvstack\u001b[0m\u001b[1;33m(\u001b[0m\u001b[0mself\u001b[0m\u001b[1;33m.\u001b[0m\u001b[0msz\u001b[0m\u001b[1;33m)\u001b[0m\u001b[1;33m\u001b[0m\u001b[1;33m\u001b[0m\u001b[0m\n\u001b[0;32m    230\u001b[0m         \u001b[0msm_c\u001b[0m \u001b[1;33m=\u001b[0m \u001b[0mnp\u001b[0m\u001b[1;33m.\u001b[0m\u001b[0mvstack\u001b[0m\u001b[1;33m(\u001b[0m\u001b[0mself\u001b[0m\u001b[1;33m.\u001b[0m\u001b[0msm\u001b[0m\u001b[1;33m)\u001b[0m\u001b[1;33m\u001b[0m\u001b[1;33m\u001b[0m\u001b[0m\n",
      "\u001b[1;32m<__array_function__ internals>\u001b[0m in \u001b[0;36mvstack\u001b[1;34m(*args, **kwargs)\u001b[0m\n",
      "\u001b[1;31mTypeError\u001b[0m: dispatcher for __array_function__ did not return an iterable"
     ]
    }
   ],
   "source": [
    "mean3 = mean_field_sys(20, delta_a, delta_c, gk, 0, 0, kappa/5, 1, 4./gk, dt/10, N_class = np.asarray([4,5]))\n",
    "[n_sz, n_ada] = mean3.update()"
   ]
  },
  {
   "cell_type": "code",
   "execution_count": null,
   "id": "75e07836-5c68-4ce2-b68d-639b755c414b",
   "metadata": {},
   "outputs": [],
   "source": []
  },
  {
   "cell_type": "code",
   "execution_count": 235,
   "id": "9c9e8538-dbdb-41ad-84af-b6173edac0e7",
   "metadata": {},
   "outputs": [
    {
     "data": {
      "text/plain": [
       "<matplotlib.legend.Legend at 0x2943df09bb0>"
      ]
     },
     "execution_count": 235,
     "metadata": {},
     "output_type": "execute_result"
    },
    {
     "data": {
      "image/png": "[encoded data removed]",
      "text/plain": [
       "<Figure size 300x700 with 2 Axes>"
      ]
     },
     "metadata": {},
     "output_type": "display_data"
    }
   ],
   "source": [
    "end = -1\n",
    "fig, ax = plt.subplots(2,1, figsize=(3,7))\n",
    "\n",
    "ax[0].plot(mean3.tlist[:end], n_ada[:end], label='Mean ada')\n",
    "ax[0].plot(tlist, piq_out.expect[1], label='PIQS ada')\n",
    "\n",
    "ax[1].plot(mean3.tlist[:end], np.real(n_sz[:end])*mean3.N_class, label='Mean sz')\n",
    "ax[1].plot(tlist, piq_out.expect[0], label='PIQS sz')\n",
    "\n",
    "ax[0].axvline(x=0.5,color='red', linestyle='--')\n",
    "ax[0].legend()\n",
    "ax[1].axvline(x=0.5,color='red', linestyle='--')\n",
    "ax[1].legend()"
   ]
  },
  {
   "cell_type": "markdown",
   "id": "0b6bd56e-794e-4c0d-bfaa-89c1a4dfcfaf",
   "metadata": {
    "jp-MarkdownHeadingCollapsed": true,
    "tags": []
   },
   "source": [
    "## Main function"
   ]
  },
  {
   "cell_type": "code",
   "execution_count": 13,
   "id": "2332ced3-9270-4288-8ade-6021da020171",
   "metadata": {},
   "outputs": [],
   "source": [
    "def da(a, dt, sm, Ft, N):\n",
    "    a += (-1j*w_cav*a - gk*1j*np.sum(N*sm) - 1j*Ft)*dt\n",
    "    return a\n",
    "    \n",
    "def da2(a2, dt, N, a_sm, a_sp, a, Ft):\n",
    "    a2 += (-2j*w_cav*a2-2j*gk*np.sum(N*(a_sm + a_sp)) - 2j*Ft*a)*dt\n",
    "    return a2\n",
    "\n",
    "def dada(ada, dt, a_sp, Ft, a, N):\n",
    "    ada += (-2*gk*np.sum(N*a_sp)-2j*Ft*np.imag(a)-kappa*ada)*dt\n",
    "    return ada\n",
    "\n",
    "def dsm(sm, dt, w_spin, a_sz):\n",
    "    sm += (-1j*w_spin + 1j*a_sz*gk)*dt\n",
    "    return sm\n",
    "\n",
    "def dsz(sz, dt, a_sp):\n",
    "    sz += (4*gk*np.imag(a_sp) - gamma*(1+sz))*dt\n",
    "    return sz\n",
    "\n",
    "def da_sz(a_sz, dt, sz, N, sm_sz_s, sz_sm_d, a2, a_sp, a, sp, ada, a_sm, sm, Ft):\n",
    "    a_sz += (-1j*w_spin*a_sz - 1j*gk*(sz + (N-1)*sm_sz_s) - \\\n",
    "            2j*gk*((a2*sp + 2*a*a_sp - 2*a**2*sp) - (a*np.conj(a_sp) + np.conj(a)*a_sm + (1+ada)*sm-2*np.abs(a)**2*sm))\\\n",
    "            - gamma*(a + a_sz) - 1j*Ft*sz - \\\n",
    "            1j*gk*np.sum(sz_sm_d*N[..., None], axis=0))*dt # Assuming that N is a row vector of size k\n",
    "    return a_sz\n",
    "\n",
    "def da_sm(a_sm, dt, sm_sm_d, N, sm_sm_s, a2, a, sz, a_sz, sm, Ft):\n",
    "    a_sm += (-1j*(w_spin+w_cav)*a_sm - 1j*gk*((N-1)*sm_sm_s - 2*a_sz*a - a2*sz\\\n",
    "            + 2*a**2*sz)-1j*Ft*sm -1j*gk*np.sum(sm_sm_d*N[..., None], axis=0))*dt\n",
    "    return a_sm\n",
    "\n",
    "def da_sp(a_sp, dt, sz, N, sm_sp_s, sp_sm_d, a, a_sz, ada, Ft, sp):\n",
    "    ad = np.conjugate(a)\n",
    "    a_sp += (1j*(np.conjugate(w_spin)-w_cav)*a_sp-.5j*gk*(1-sz)-1j*gk*(N-1)*sm_sp_s\\\n",
    "            -1j*np.sum(sp_sm_d*N[..., None], axis=0)-1j*gk*((1+ada)*sz + 2* np.real(a_sz*ad) -2*np.abs(a)**2*sz)\\\n",
    "            -1j*Ft*sp)*dt\n",
    "    return a_sp\n",
    "\n",
    "def dsm_sz_s(sm_sz_s, dt, a, sz, a_sz, sz_sz_s, a_sm, a_sp, sm_sp_s, sp, sm, sm_sm_s):\n",
    "    ad = np.conjugate(a)\n",
    "    sm_sz_s += (-1j*w_spin*sm_sz_s+1j*gk*(a*sz_sz_s+2*sz*a_sz-2*a*sz**2)-2j*gk\\\n",
    "    *(a_sm*sp+a_sp*sm+a*sm_sp_s-2*a*sm*sp-(ad*sm_sm_s+2*np.conjugate(a_sp)*sm\\\n",
    "    -2*ad*sm**2))-gamma*(sm+sz_sz_s))*dt\n",
    "    return sm_sz_s\n",
    "\n",
    "def dsm_sp_s(sm_sp_s, dt, a, sm_sz_s, a_sp, a_sz, sz, sm):\n",
    "    sm_sp_s += (2*np.imag(w_spin)*sm_sp_s + \\\n",
    "               2*gk*np.imag(sz*np.conjugate(a_sp)+\\\n",
    "                           np.conjugate(a)*sm_sz_s+sm*np.conjugate(a_sz)-\\\n",
    "                          2*np.conjugate(a)*sm*sz))*dt\n",
    "    return sm_sp_s\n",
    "\n",
    "def dsm_sm_s(sm_sm_s, dt, a_sm, a_sz, sm_sz_s, sm, sz, a):\n",
    "    sm_sm_s += (-2j*w_spin*sm_sm_s+2j*gk*(a*sm_sz_s+a_sm*sz+a_sz*sm-\\\n",
    "                2*a*sm*sz))*dt\n",
    "    return sm_sm_s\n",
    "\n",
    "def dsz_sz_s(sz_sz_s, dt, sm_sz_s, sz):\n",
    "    sz_sz_s += (8*gk*np.imag(np.conjugate(sm_sz_s)) - \\\n",
    "               2*gamma*(sz + sz_sz_s))*dt\n",
    "    return sz_sz_s\n",
    "\n",
    "def dsm_sm_d(sm_sm_d, dt, a, sz, sm, a_sz, a_sm, sz_sm_d):\n",
    "    N = np.size(w_spin)\n",
    "    w_spin_r = np.tile(w_spin, N).reshape(N, N)\n",
    "    w_spin_c = w_spin_r.T\n",
    "    a_sz_c = np.vstack(a_sz)\n",
    "    sm_c = np.vstack(sm)\n",
    "    a_sm_c = np.vstack(a_sm)\n",
    "    sz_c = np.vstack(sz)\n",
    "    \n",
    "    sm_sm_d += (-1j*(w_spin_r + w_spin_c)*sm_sm_d + \\\n",
    "               1j*gk*(a*sz_sm_d + sm_c*a_sz + sz*a_sm_c - 2*a*sz*sm_c)\\\n",
    "               +1j*gk*(a*sz_sm_d.T + sm*a_sz_c+sz_c*a_sm - 2*sm*sz_c))*dt\n",
    "    \n",
    "    np.fill_diagonal(sm_sm_d, 0)\n",
    "    \n",
    "    return sm_sm_d\n",
    "\n",
    "def dsz_sz_d(sz_sz_d, dt, a_sp, a_sz, sz_sm_d, a, sp, sz):\n",
    "    N = np.size(sz)\n",
    "    a_sz_c = np.vstack(a_sz)\n",
    "    a_sp_c = np.vstack(a_sp)\n",
    "    sp_c = np.vstack(sp)\n",
    "    sz_c = np.vstack(sz)\n",
    "    sz_mat_c = np.tile(sz_c, N)\n",
    "    sz_mat_r = np.tile(sz, N).reshape(N, N)\n",
    "    \n",
    "    sz_sz_d += (4*gk*np.imag(a*np.conjugate(sz_sm_d).T + \\\n",
    "                sp*a_sz_c + a_sp*sz_c - 2*a*sp*sz_c) + \\\n",
    "               4*gk*np.imag(a*np.conjugate(sz_sm_d) + \\\n",
    "                a_sz*sp_c + sz*a_sp_c - 2*a*sz*sp_c) -\n",
    "               gamma*(sz_mat_c + sz_mat_r + 2*sz_sz_d))*dt\n",
    "    np.fill_diagonal(sz_sz_d, 0)\n",
    "    return sz_sz_d\n",
    "\n",
    "def dsz_sm_d(sz_sm_d, dt, a_sz, sz_sz_d, sz, a, sp_sm_d, sp, sm, a_sp, a_sm, sm_sm_d):\n",
    "    ad = np.conjugate(a)\n",
    "    N = np.size(sm)\n",
    "    w_spin_c = np.vstack(w_spin)\n",
    "    sz_c = np.vstack(sz)\n",
    "    sm_c = np.vstack(sm)\n",
    "    a_sm_c = np.vstack(a_sm)\n",
    "    a_sz_c = np.vstack(a_sz)\n",
    "    ad_sm = np.conjugate(a_sp)\n",
    "    ad_sm_c = np.vstack(ad_sm)\n",
    "    sm_mat_c = np.tile(sm_c, N)\n",
    "    \n",
    "    sz_sm_d += (-1j*w_spin_c*sz_sm_d\\\n",
    "                + 1j*gk*(a*sz_sz_d + a_sz*sz_c + a_sz_c*sz\\\n",
    "               -2*a*sz*sz_c) - 2j*gk*((a*sp_sm_d + a_sp*sm_c + a_sm_c*sp - 2*a*sp*sm_c)\\\n",
    "               -(ad*sm_sm_d + ad_sm*sm_c + ad_sm_c*sm - 2*ad*sm*sm_c))\\\n",
    "               -gamma*(sm_mat_c + sz_sm_d))*dt\n",
    "    np.fill_diagonal(sz_sm_d, 0)\n",
    "    return sz_sm_d\n",
    "\n",
    "def dsp_sm_d(sp_sm_d, dt, sz_sm_d, a_sp, a_sz, sp, sz, sm, a):\n",
    "    ad = np.conjugate(a)\n",
    "    w_spin_c = np.vstack(w_spin)\n",
    "    sp_sz_d = np.conjugate(sz_sm_d).T\n",
    "    ad_sz = np.conjugate(a_sz)\n",
    "    ad_sm_c = np.conjugate(a_sp).T\n",
    "    sz_c = np.vstack(sz)\n",
    "    sm_c = np.vstack(sm)\n",
    "    a_sz_c = np.vstack(a_sz)\n",
    "    sp_sm_d += (-1j*(w_spin_c-np.conjugate(w_spin)*sp_sm_d+1j*gk*\\\n",
    "                (a*sp_sz_d)+a_sp*sz_c+a_sz_c*sz-2*a*sp*sz_c)-1j*gk*\\\n",
    "                (ad*sz_sm_d+ad_sz*sm_c+ad_sm_c*sz-2*ad*sz*sm_c))*dt\n",
    "    np.fill_diagonal(sp_sm_d,0)\n",
    "    return sp_sm_d\n"
   ]
  },
  {
   "cell_type": "code",
   "execution_count": 16,
   "id": "3f6e74f5-f565-447b-aa2b-ab8ee3d24a30",
   "metadata": {},
   "outputs": [
    {
     "name": "stdout",
     "output_type": "stream",
     "text": [
      "Nk =  2\n"
     ]
    },
    {
     "ename": "TypeError",
     "evalue": "dsm() missing 1 required positional argument: 'a_sz'",
     "output_type": "error",
     "traceback": [
      "\u001b[0;31m---------------------------------------------------------------------------\u001b[0m",
      "\u001b[0;31mTypeError\u001b[0m                                 Traceback (most recent call last)",
      "File \u001b[0;32m<timed exec>:54\u001b[0m, in \u001b[0;36m<module>\u001b[0;34m\u001b[0m\n",
      "\u001b[0;31mTypeError\u001b[0m: dsm() missing 1 required positional argument: 'a_sz'"
     ]
    }
   ],
   "source": [
    "%%time\n",
    "\n",
    "test_spins = [2]\n",
    "cases = np.size(test_spins)\n",
    "n_a = np.zeros((cases, intervals), dtype=np.cfloat)\n",
    "n_a2 = np.zeros((cases, intervals), dtype=np.cfloat)\n",
    "n_asp = np.zeros((cases, intervals), dtype=np.cfloat)\n",
    "n_asm = np.zeros((cases, intervals), dtype=np.cfloat)\n",
    "n_sm = np.zeros((cases, intervals), dtype=np.cfloat)\n",
    "n_sz = np.zeros((cases, intervals), dtype=np.cfloat)\n",
    "n_ada = np.zeros((cases, intervals), dtype=np.cfloat)\n",
    "n_asz = np.zeros((cases, intervals), dtype=np.cfloat)\n",
    "n_smsz = np.zeros((cases, intervals), dtype=np.cfloat)\n",
    "\n",
    "for n in range(cases):\n",
    "    # Initializesm_0 = np.zeros(k, dtype=np.cfloat) # Spins originally excited\n",
    "    N = np.asarray(test_spins[n])\n",
    "    print(\"Nk = \", N)\n",
    "    a_0 = 0. # Cavity initialized in vacuum\n",
    "    a2_0 = 0.\n",
    "    ada_0 = 0.\n",
    "    sp_0 = np.zeros(k, dtype=np.cfloat)\n",
    "    sz_0 = np.ones(k, dtype=np.cfloat) \n",
    "\n",
    "    a_sz_0 = np.zeros(k, dtype=np.cfloat) # Product of expectation value of a and sz\n",
    "    a_sm_0 = np.zeros(k, dtype=np.cfloat)\n",
    "    a_sp_0 = np.zeros(k, dtype=np.cfloat)\n",
    "\n",
    "    sm_sz_s_0 = np.zeros(k, dtype=np.cfloat)\n",
    "    sm_sp_s_0 = np.zeros(k, dtype=np.cfloat)\n",
    "    sm_sm_s_0 = np.zeros(k, dtype=np.cfloat)\n",
    "    sz_sz_s_0 = np.ones(k, dtype=np.cfloat)\n",
    "\n",
    "    # Different class all set to 0\n",
    "    sm_sm_d_0 = np.zeros((k, k), dtype=np.cfloat)\n",
    "    sz_sz_d_0 = np.zeros((k, k), dtype=np.cfloat)\n",
    "    # np.fill_diagonal(sz_sz_d_0, 0)\n",
    "    sz_sm_d_0 = np.zeros((k, k), dtype=np.cfloat)\n",
    "    sp_sm_d_0 = np.zeros((k, k), dtype=np.cfloat)\n",
    "\n",
    "    for i in range(intervals):\n",
    "        n_a[n][i] = a_0\n",
    "        n_a2[n][i] = a2_0\n",
    "        n_asp[n][i] = a_sp_0[0]\n",
    "        n_asm[n][i] = a_sm_0[0]\n",
    "        n_sm[n][i] = sm_0[0]\n",
    "        n_sz[n][i] = sz_0[0]\n",
    "        n_ada[n][i] = ada_0\n",
    "        n_asz[n][i] = a_sz_0[0]\n",
    "        n_smsz[n][i] = sm_sz_s_0[0]\n",
    "        \n",
    "        Ft_0 = Ft[i]\n",
    "        a_0 = da(a_0, sm_0, Ft_0, N, dt)\n",
    "        a2_0 = da2(a2_0, dt, N, a_sm_0, a_sp_0, a_0, Ft_0)\n",
    "        ada_0 = dada(ada_0, a_0, a_sp_0, Ft_0, N, dt)\n",
    "        sm_0 = dsm(sm_0, a_sz_0, dt)\n",
    "        sz_0 = dsz(sz_0, a_sp_0, dt)\n",
    "        a_sz_0 = da_sz(a_sz_0, a_0, a2_0, ada_0, sm_0, sp_0, sz_0, a_sm_0, a_sp_0, sm_sz_s_0, sz_sm_d_0, Ft_0, N, dt)\n",
    "        a_sm_0 = da_sm(a_sm_0, a_0, a2_0, sz_0, sm_0, a_sz_0, sm_sm_s_0, sm_sm_d_0, Ft_0, N, dt)\n",
    "        a_sp_0 = da_sp(a_sp_0, a_0, ada_0, sz_0, sp_0, a_sz_0, sm_sp_s_0, sp_sm_d_0, Ft_0, N, dt)\n",
    "        sm_sz_s_0 = dsm_sz_s(sm_sz_s_0, a_0, sm_0, sp_0, sz_0, a_sm_0, a_sp_0, a_sz_0, sz_sz_s_0, sm_sm_s_0, sm_sp_s_0, dt)\n",
    "        sm_sp_s_0 = dsm_sp_s(sm_sp_s_0, a_0, sz_0, sm_0, a_sp_0, a_sz_0, sm_sz_s_0, dt)\n",
    "        sm_sm_s_0 = dsm_sm_s(sm_sm_s_0, a_0, sm_0, sz_0, a_sm_0, a_sz_0, sm_sz_s_0, dt)\n",
    "        sz_sz_s_0 = dsz_sz_s(sz_sz_s_0, a_0, sp_0, sz_0, a_sp_0, a_sz_0, sm_sz_s_0, dt)"
   ]
  },
  {
   "cell_type": "markdown",
   "id": "79231fd3-89cb-4c23-a9d1-cda0eb6e8d01",
   "metadata": {
    "tags": []
   },
   "source": [
    "## Expectation 4,8 - QuTiP exact"
   ]
  },
  {
   "cell_type": "code",
   "execution_count": 17,
   "id": "2c19b5e2-4730-4a05-b729-7f4633e63340",
   "metadata": {},
   "outputs": [
    {
     "ename": "KeyboardInterrupt",
     "evalue": "",
     "output_type": "error",
     "traceback": [
      "\u001b[0;31m---------------------------------------------------------------------------\u001b[0m",
      "\u001b[0;31mKeyboardInterrupt\u001b[0m                         Traceback (most recent call last)",
      "File \u001b[0;32m<timed exec>:14\u001b[0m, in \u001b[0;36m<module>\u001b[0;34m\u001b[0m\n",
      "File \u001b[0;32m~/opt/anaconda3/lib/python3.9/site-packages/qutip/mesolve.py:217\u001b[0m, in \u001b[0;36mmesolve\u001b[0;34m(H, rho0, tlist, c_ops, e_ops, args, options, progress_bar, _safe_mode)\u001b[0m\n\u001b[1;32m    205\u001b[0m use_mesolve \u001b[38;5;241m=\u001b[39m ((c_ops \u001b[38;5;129;01mand\u001b[39;00m \u001b[38;5;28mlen\u001b[39m(c_ops) \u001b[38;5;241m>\u001b[39m \u001b[38;5;241m0\u001b[39m)\n\u001b[1;32m    206\u001b[0m                \u001b[38;5;129;01mor\u001b[39;00m (\u001b[38;5;129;01mnot\u001b[39;00m isket(rho0))\n\u001b[1;32m    207\u001b[0m                \u001b[38;5;129;01mor\u001b[39;00m (\u001b[38;5;28misinstance\u001b[39m(H, Qobj) \u001b[38;5;129;01mand\u001b[39;00m issuper(H))\n\u001b[0;32m   (...)\u001b[0m\n\u001b[1;32m    213\u001b[0m                \u001b[38;5;129;01mor\u001b[39;00m (\u001b[38;5;129;01mnot\u001b[39;00m \u001b[38;5;28misinstance\u001b[39m(H, (Qobj, QobjEvo)) \u001b[38;5;129;01mand\u001b[39;00m callable(H) \u001b[38;5;129;01mand\u001b[39;00m\n\u001b[1;32m    214\u001b[0m                         options\u001b[38;5;241m.\u001b[39mrhs_with_state))\n\u001b[1;32m    216\u001b[0m \u001b[38;5;28;01mif\u001b[39;00m \u001b[38;5;129;01mnot\u001b[39;00m use_mesolve:\n\u001b[0;32m--> 217\u001b[0m     \u001b[38;5;28;01mreturn\u001b[39;00m \u001b[43msesolve\u001b[49m\u001b[43m(\u001b[49m\u001b[43mH\u001b[49m\u001b[43m,\u001b[49m\u001b[43m \u001b[49m\u001b[43mrho0\u001b[49m\u001b[43m,\u001b[49m\u001b[43m \u001b[49m\u001b[43mtlist\u001b[49m\u001b[43m,\u001b[49m\u001b[43m \u001b[49m\u001b[43me_ops\u001b[49m\u001b[38;5;241;43m=\u001b[39;49m\u001b[43me_ops\u001b[49m\u001b[43m,\u001b[49m\u001b[43m \u001b[49m\u001b[43margs\u001b[49m\u001b[38;5;241;43m=\u001b[39;49m\u001b[43margs\u001b[49m\u001b[43m,\u001b[49m\u001b[43m \u001b[49m\u001b[43moptions\u001b[49m\u001b[38;5;241;43m=\u001b[39;49m\u001b[43moptions\u001b[49m\u001b[43m,\u001b[49m\n\u001b[1;32m    218\u001b[0m \u001b[43m                   \u001b[49m\u001b[43mprogress_bar\u001b[49m\u001b[38;5;241;43m=\u001b[39;49m\u001b[43mprogress_bar\u001b[49m\u001b[43m,\u001b[49m\u001b[43m \u001b[49m\u001b[43m_safe_mode\u001b[49m\u001b[38;5;241;43m=\u001b[39;49m\u001b[43m_safe_mode\u001b[49m\u001b[43m)\u001b[49m\n\u001b[1;32m    220\u001b[0m \u001b[38;5;28;01mif\u001b[39;00m isket(rho0):\n\u001b[1;32m    221\u001b[0m     rho0 \u001b[38;5;241m=\u001b[39m ket2dm(rho0)\n",
      "File \u001b[0;32m~/opt/anaconda3/lib/python3.9/site-packages/qutip/sesolve.py:136\u001b[0m, in \u001b[0;36msesolve\u001b[0;34m(H, psi0, tlist, e_ops, args, options, progress_bar, _safe_mode)\u001b[0m\n\u001b[1;32m    133\u001b[0m     v \u001b[38;5;241m=\u001b[39m psi0\u001b[38;5;241m.\u001b[39mfull()\u001b[38;5;241m.\u001b[39mravel(\u001b[38;5;124m'\u001b[39m\u001b[38;5;124mF\u001b[39m\u001b[38;5;124m'\u001b[39m)\n\u001b[1;32m    134\u001b[0m     func(\u001b[38;5;241m0.\u001b[39m, v, \u001b[38;5;241m*\u001b[39mode_args) \u001b[38;5;241m+\u001b[39m v\n\u001b[0;32m--> 136\u001b[0m res \u001b[38;5;241m=\u001b[39m \u001b[43m_generic_ode_solve\u001b[49m\u001b[43m(\u001b[49m\u001b[43mfunc\u001b[49m\u001b[43m,\u001b[49m\u001b[43m \u001b[49m\u001b[43mode_args\u001b[49m\u001b[43m,\u001b[49m\u001b[43m \u001b[49m\u001b[43mpsi0\u001b[49m\u001b[43m,\u001b[49m\u001b[43m \u001b[49m\u001b[43mtlist\u001b[49m\u001b[43m,\u001b[49m\u001b[43m \u001b[49m\u001b[43me_ops\u001b[49m\u001b[43m,\u001b[49m\u001b[43m \u001b[49m\u001b[43moptions\u001b[49m\u001b[43m,\u001b[49m\n\u001b[1;32m    137\u001b[0m \u001b[43m                         \u001b[49m\u001b[43mprogress_bar\u001b[49m\u001b[43m,\u001b[49m\u001b[43m \u001b[49m\u001b[43mdims\u001b[49m\u001b[38;5;241;43m=\u001b[39;49m\u001b[43mpsi0\u001b[49m\u001b[38;5;241;43m.\u001b[39;49m\u001b[43mdims\u001b[49m\u001b[43m)\u001b[49m\n\u001b[1;32m    138\u001b[0m \u001b[38;5;28;01mif\u001b[39;00m e_ops_dict:\n\u001b[1;32m    139\u001b[0m     res\u001b[38;5;241m.\u001b[39mexpect \u001b[38;5;241m=\u001b[39m {e: res\u001b[38;5;241m.\u001b[39mexpect[n]\n\u001b[1;32m    140\u001b[0m                   \u001b[38;5;28;01mfor\u001b[39;00m n, e \u001b[38;5;129;01min\u001b[39;00m \u001b[38;5;28menumerate\u001b[39m(e_ops_dict\u001b[38;5;241m.\u001b[39mkeys())}\n",
      "File \u001b[0;32m~/opt/anaconda3/lib/python3.9/site-packages/qutip/sesolve.py:381\u001b[0m, in \u001b[0;36m_generic_ode_solve\u001b[0;34m(func, ode_args, psi0, tlist, e_ops, opt, progress_bar, dims)\u001b[0m\n\u001b[1;32m    377\u001b[0m             output\u001b[38;5;241m.\u001b[39mexpect[m][t_idx] \u001b[38;5;241m=\u001b[39m cy_expect_psi(e_ops_data[m], cdata,\n\u001b[1;32m    378\u001b[0m                                                     e_ops[m]\u001b[38;5;241m.\u001b[39misherm)\n\u001b[1;32m    380\u001b[0m     \u001b[38;5;28;01mif\u001b[39;00m t_idx \u001b[38;5;241m<\u001b[39m n_tsteps \u001b[38;5;241m-\u001b[39m \u001b[38;5;241m1\u001b[39m:\n\u001b[0;32m--> 381\u001b[0m         \u001b[43mr\u001b[49m\u001b[38;5;241;43m.\u001b[39;49m\u001b[43mintegrate\u001b[49m\u001b[43m(\u001b[49m\u001b[43mr\u001b[49m\u001b[38;5;241;43m.\u001b[39;49m\u001b[43mt\u001b[49m\u001b[43m \u001b[49m\u001b[38;5;241;43m+\u001b[39;49m\u001b[43m \u001b[49m\u001b[43mdt\u001b[49m\u001b[43m[\u001b[49m\u001b[43mt_idx\u001b[49m\u001b[43m]\u001b[49m\u001b[43m)\u001b[49m\n\u001b[1;32m    383\u001b[0m progress_bar\u001b[38;5;241m.\u001b[39mfinished()\n\u001b[1;32m    385\u001b[0m \u001b[38;5;28;01mif\u001b[39;00m opt\u001b[38;5;241m.\u001b[39mstore_final_state:\n",
      "File \u001b[0;32m~/opt/anaconda3/lib/python3.9/site-packages/scipy/integrate/_ode.py:433\u001b[0m, in \u001b[0;36mode.integrate\u001b[0;34m(self, t, step, relax)\u001b[0m\n\u001b[1;32m    430\u001b[0m     mth \u001b[38;5;241m=\u001b[39m \u001b[38;5;28mself\u001b[39m\u001b[38;5;241m.\u001b[39m_integrator\u001b[38;5;241m.\u001b[39mrun\n\u001b[1;32m    432\u001b[0m \u001b[38;5;28;01mtry\u001b[39;00m:\n\u001b[0;32m--> 433\u001b[0m     \u001b[38;5;28mself\u001b[39m\u001b[38;5;241m.\u001b[39m_y, \u001b[38;5;28mself\u001b[39m\u001b[38;5;241m.\u001b[39mt \u001b[38;5;241m=\u001b[39m \u001b[43mmth\u001b[49m\u001b[43m(\u001b[49m\u001b[38;5;28;43mself\u001b[39;49m\u001b[38;5;241;43m.\u001b[39;49m\u001b[43mf\u001b[49m\u001b[43m,\u001b[49m\u001b[43m \u001b[49m\u001b[38;5;28;43mself\u001b[39;49m\u001b[38;5;241;43m.\u001b[39;49m\u001b[43mjac\u001b[49m\u001b[43m \u001b[49m\u001b[38;5;129;43;01mor\u001b[39;49;00m\u001b[43m \u001b[49m\u001b[43m(\u001b[49m\u001b[38;5;28;43;01mlambda\u001b[39;49;00m\u001b[43m:\u001b[49m\u001b[43m \u001b[49m\u001b[38;5;28;43;01mNone\u001b[39;49;00m\u001b[43m)\u001b[49m\u001b[43m,\u001b[49m\n\u001b[1;32m    434\u001b[0m \u001b[43m                          \u001b[49m\u001b[38;5;28;43mself\u001b[39;49m\u001b[38;5;241;43m.\u001b[39;49m\u001b[43m_y\u001b[49m\u001b[43m,\u001b[49m\u001b[43m \u001b[49m\u001b[38;5;28;43mself\u001b[39;49m\u001b[38;5;241;43m.\u001b[39;49m\u001b[43mt\u001b[49m\u001b[43m,\u001b[49m\u001b[43m \u001b[49m\u001b[43mt\u001b[49m\u001b[43m,\u001b[49m\n\u001b[1;32m    435\u001b[0m \u001b[43m                          \u001b[49m\u001b[38;5;28;43mself\u001b[39;49m\u001b[38;5;241;43m.\u001b[39;49m\u001b[43mf_params\u001b[49m\u001b[43m,\u001b[49m\u001b[43m \u001b[49m\u001b[38;5;28;43mself\u001b[39;49m\u001b[38;5;241;43m.\u001b[39;49m\u001b[43mjac_params\u001b[49m\u001b[43m)\u001b[49m\n\u001b[1;32m    436\u001b[0m \u001b[38;5;28;01mexcept\u001b[39;00m \u001b[38;5;167;01mSystemError\u001b[39;00m \u001b[38;5;28;01mas\u001b[39;00m e:\n\u001b[1;32m    437\u001b[0m     \u001b[38;5;66;03m# f2py issue with tuple returns, see ticket 1187.\u001b[39;00m\n\u001b[1;32m    438\u001b[0m     \u001b[38;5;28;01mraise\u001b[39;00m \u001b[38;5;167;01mValueError\u001b[39;00m(\n\u001b[1;32m    439\u001b[0m         \u001b[38;5;124m'\u001b[39m\u001b[38;5;124mFunction to integrate must not return a tuple.\u001b[39m\u001b[38;5;124m'\u001b[39m\n\u001b[1;32m    440\u001b[0m     ) \u001b[38;5;28;01mfrom\u001b[39;00m \u001b[38;5;21;01me\u001b[39;00m\n",
      "File \u001b[0;32m~/opt/anaconda3/lib/python3.9/site-packages/scipy/integrate/_ode.py:1009\u001b[0m, in \u001b[0;36mvode.run\u001b[0;34m(self, f, jac, y0, t0, t1, f_params, jac_params)\u001b[0m\n\u001b[1;32m   1005\u001b[0m     jac \u001b[38;5;241m=\u001b[39m _vode_banded_jac_wrapper(jac, \u001b[38;5;28mself\u001b[39m\u001b[38;5;241m.\u001b[39mml, jac_params)\n\u001b[1;32m   1007\u001b[0m args \u001b[38;5;241m=\u001b[39m ((f, jac, y0, t0, t1) \u001b[38;5;241m+\u001b[39m \u001b[38;5;28mtuple\u001b[39m(\u001b[38;5;28mself\u001b[39m\u001b[38;5;241m.\u001b[39mcall_args) \u001b[38;5;241m+\u001b[39m\n\u001b[1;32m   1008\u001b[0m         (f_params, jac_params))\n\u001b[0;32m-> 1009\u001b[0m y1, t, istate \u001b[38;5;241m=\u001b[39m \u001b[38;5;28;43mself\u001b[39;49m\u001b[38;5;241;43m.\u001b[39;49m\u001b[43mrunner\u001b[49m\u001b[43m(\u001b[49m\u001b[38;5;241;43m*\u001b[39;49m\u001b[43margs\u001b[49m\u001b[43m)\u001b[49m\n\u001b[1;32m   1010\u001b[0m \u001b[38;5;28mself\u001b[39m\u001b[38;5;241m.\u001b[39mistate \u001b[38;5;241m=\u001b[39m istate\n\u001b[1;32m   1011\u001b[0m \u001b[38;5;28;01mif\u001b[39;00m istate \u001b[38;5;241m<\u001b[39m \u001b[38;5;241m0\u001b[39m:\n",
      "\u001b[0;31mKeyboardInterrupt\u001b[0m: "
     ]
    }
   ],
   "source": [
    "%%time\n",
    "\n",
    "Nk = 10\n",
    "i_emi = tensor([qeye(2)]*Nk)\n",
    "psi0 = tensor(basis(N_cav, 0), tensor([basis(2, 0)]*Nk)) # (2,0) excited\n",
    "a = tensor(destroy(N_cav), i_emi)\n",
    "ad = tensor(destroy(N_cav).dag(),i_emi)\n",
    "sp = tensor(qeye(N_cav), sum_ops(qeye(2), sigmap(), Nk, 1))\n",
    "sm = tensor(qeye(N_cav), sum_ops(qeye(2), sigmam(), Nk, 1))\n",
    "sz = tensor(qeye(N_cav), sum_ops(qeye(2), sigmaz(), Nk, 1))\n",
    "# Operators may not be correct: [S^2, Sz]=0, need to take into account that they are permutational invariant\n",
    "H0 = delta_c*ad*a + delta_a/2*sz + gk*(a*sp + ad*sm)\n",
    "H = [H0, [F*(ad+a), Ft]]\n",
    "decay = np.sqrt(gamma)*sm\n",
    "e_ops = [sz, a*ad*sz, ad*sm*sz, a, ad, sm, a*sz, ad*sz, a*ad, ad*sm, ad*sz, sm*sz, a*sp]\n",
    "output = mesolve(H, psi0, tlist, c_ops = [], e_ops=e_ops)"
   ]
  },
  {
   "cell_type": "code",
   "execution_count": 13,
   "id": "f3226ad8-ce6c-4805-8af9-428ca15bd6bf",
   "metadata": {},
   "outputs": [
    {
     "ename": "NameError",
     "evalue": "name 'output' is not defined",
     "output_type": "error",
     "traceback": [
      "\u001b[0;31m---------------------------------------------------------------------------\u001b[0m",
      "\u001b[0;31mNameError\u001b[0m                                 Traceback (most recent call last)",
      "Input \u001b[0;32mIn [13]\u001b[0m, in \u001b[0;36m<cell line: 1>\u001b[0;34m()\u001b[0m\n\u001b[0;32m----> 1\u001b[0m plt\u001b[38;5;241m.\u001b[39mplot(tlist, \u001b[43moutput\u001b[49m\u001b[38;5;241m.\u001b[39mexpect[\u001b[38;5;241m0\u001b[39m], label\u001b[38;5;241m=\u001b[39m\u001b[38;5;124m'\u001b[39m\u001b[38;5;124msz\u001b[39m\u001b[38;5;124m'\u001b[39m)\n\u001b[1;32m      2\u001b[0m plt\u001b[38;5;241m.\u001b[39mplot(tlist, output\u001b[38;5;241m.\u001b[39mexpect[\u001b[38;5;241m1\u001b[39m], label\u001b[38;5;241m=\u001b[39m\u001b[38;5;124m'\u001b[39m\u001b[38;5;124maadsz\u001b[39m\u001b[38;5;124m'\u001b[39m)\n\u001b[1;32m      3\u001b[0m plt\u001b[38;5;241m.\u001b[39mplot(tlist, output\u001b[38;5;241m.\u001b[39mexpect[\u001b[38;5;241m2\u001b[39m], label\u001b[38;5;241m=\u001b[39m\u001b[38;5;124m'\u001b[39m\u001b[38;5;124madsmsz\u001b[39m\u001b[38;5;124m'\u001b[39m)\n",
      "\u001b[0;31mNameError\u001b[0m: name 'output' is not defined"
     ]
    }
   ],
   "source": [
    "plt.plot(tlist, output.expect[0], label='sz')\n",
    "plt.plot(tlist, output.expect[1], label='aadsz')\n",
    "plt.plot(tlist, output.expect[2], label='adsmsz')\n",
    "plt.legend()\n",
    "#plt.plot(tlist, (output.expect[2]*output.expect[3]+output.expect[4]*output.expect[5]+output.expect[6]*output.expect[7]-2*output.expect[2]*output.expect[4]*output.expect[6]))"
   ]
  },
  {
   "cell_type": "code",
   "execution_count": null,
   "id": "7cd4c8d7-4b16-48ac-9031-9bb0d638724d",
   "metadata": {},
   "outputs": [],
   "source": [
    "esz = output.expect[0]\n",
    "ea = output.expect[3]\n",
    "ead = output.expect[4]\n",
    "esm = output.expect[5]\n",
    "easz = output.expect[6]\n",
    "eadsz =output.expect[7]\n",
    "eaad = output.expect[8]\n",
    "eadsm = output.expect[9]\n",
    "eadsz = output.expect[10]\n",
    "esmsz = output.expect[11]\n",
    "plt.plot(tlist, output.expect[1], label='exact aadsz')\n",
    "plt.plot(tlist, (ea*eadsz + ead*easz + eaad*esz - 2*ea*ead*esz), label='mean field')\n",
    "plt.legend()"
   ]
  },
  {
   "cell_type": "code",
   "execution_count": null,
   "id": "519f24c0-b3ac-4a2f-8725-9043c671c104",
   "metadata": {},
   "outputs": [],
   "source": [
    "plt.plot(tlist, output.expect[2], label='exact adsmsz')\n",
    "plt.plot(tlist, (ead*esmsz + eadsm*esz + eadsz*esm -2*ead*esm*esz), label='mean field')\n",
    "plt.legend()"
   ]
  },
  {
   "cell_type": "markdown",
   "id": "47c98a69-d411-465f-abb3-6db462bd23e5",
   "metadata": {},
   "source": [
    "## Expectation 4,8 - Mean field solver"
   ]
  },
  {
   "cell_type": "code",
   "execution_count": null,
   "id": "73b7c212-6be5-44de-9c23-f051908c69e0",
   "metadata": {},
   "outputs": [],
   "source": [
    "index = 0\n",
    "n_ad = np.conjugate(n_a)\n",
    "plt.plot(tlist, ((1+n_ada[index])*n_sz[index] + n_a[index]*np.conjugate(n_asz[index]) + n_ad[index]*n_asz[index] -2*n_a[index]*n_ad[index]*n_sz[index])*5 , label='mean aadsz')\n",
    "plt.plot(tlist,(np.imag(n_ad[index]*n_smsz[index] + np.conjugate(n_asz[index])*n_sm[index] + np.conjugate(n_asp[index])*n_sz[index] - 2*n_ad[index]*n_sm[index]*n_sz[index]))*5, label='mean adsmsz')\n",
    "# plt.plot(tlist, (ea*eadsz + ead*easz + eaad*esz - 2*ea*ead*esz), label='me mean aadsz')\n",
    "# plt.plot(tlist, np.imag(ead*esmsz + eadsm*esz + eadsz*esm -2*ead*esm*esz), label='me mean adsmsz')\n",
    "plt.plot(tlist, output.expect[1], label='exact aadsz')\n",
    "plt.plot(tlist, np.imag(output.expect[2]), label='exact adsmsz')\n",
    "plt.legend()"
   ]
  },
  {
   "cell_type": "code",
   "execution_count": 14,
   "id": "b577c26d-d597-4d5a-91a1-c22eb64d5736",
   "metadata": {},
   "outputs": [
    {
     "ename": "NameError",
     "evalue": "name 'n_asp' is not defined",
     "output_type": "error",
     "traceback": [
      "\u001b[0;31m---------------------------------------------------------------------------\u001b[0m",
      "\u001b[0;31mNameError\u001b[0m                                 Traceback (most recent call last)",
      "Input \u001b[0;32mIn [14]\u001b[0m, in \u001b[0;36m<cell line: 1>\u001b[0;34m()\u001b[0m\n\u001b[0;32m----> 1\u001b[0m plt\u001b[38;5;241m.\u001b[39mplot(tlist, \u001b[38;5;241m5\u001b[39m\u001b[38;5;241m*\u001b[39m(np\u001b[38;5;241m.\u001b[39mimag(\u001b[43mn_asp\u001b[49m[index])), label\u001b[38;5;241m=\u001b[39m\u001b[38;5;124m'\u001b[39m\u001b[38;5;124mMeanfield asp\u001b[39m\u001b[38;5;124m'\u001b[39m)\n\u001b[1;32m      2\u001b[0m easp \u001b[38;5;241m=\u001b[39m output\u001b[38;5;241m.\u001b[39mexpect[\u001b[38;5;241m12\u001b[39m]\n\u001b[1;32m      3\u001b[0m plt\u001b[38;5;241m.\u001b[39mplot(tlist, np\u001b[38;5;241m.\u001b[39mimag(easp), label\u001b[38;5;241m=\u001b[39m\u001b[38;5;124m'\u001b[39m\u001b[38;5;124mexact asp\u001b[39m\u001b[38;5;124m'\u001b[39m)\n",
      "\u001b[0;31mNameError\u001b[0m: name 'n_asp' is not defined"
     ]
    }
   ],
   "source": [
    "plt.plot(tlist, 5*(np.imag(n_asp[index])), label='Meanfield asp')\n",
    "easp = output.expect[12]\n",
    "plt.plot(tlist, np.imag(easp), label='exact asp')"
   ]
  },
  {
   "cell_type": "markdown",
   "id": "1ddc894a-9304-4dd6-a442-75e955c60d34",
   "metadata": {},
   "source": [
    "## Check: initialization"
   ]
  },
  {
   "cell_type": "code",
   "execution_count": 258,
   "id": "2d15a102-cf77-4868-a640-a99deb336bc9",
   "metadata": {},
   "outputs": [
    {
     "name": "stdout",
     "output_type": "stream",
     "text": [
      "0j (1+0j) 0j 0j -0j\n"
     ]
    },
    {
     "name": "stderr",
     "output_type": "stream",
     "text": [
      "/Users/pethidine/opt/anaconda3/lib/python3.9/site-packages/matplotlib/cbook/__init__.py:1298: ComplexWarning: Casting complex values to real discards the imaginary part\n",
      "  return np.asarray(x, float)\n"
     ]
    },
    {
     "data": {
      "image/png": "[encoded data removed]",
      "text/plain": [
       "<Figure size 432x288 with 1 Axes>"
      ]
     },
     "metadata": {
      "needs_background": "light"
     },
     "output_type": "display_data"
    }
   ],
   "source": [
    "# aadsz\n",
    "# Mean field\n",
    "plt.plot(tlist, 5*((1+n_ada[index])*n_sz[index] + n_a[index]*np.conjugate(n_asz[index]) + n_ad[index]*n_asz[index] -2*n_a[index]*n_ad[index]*5*n_sz[index]), label='mean aadsz')\n",
    "print(n_ada[0][0], n_sz[0][0], n_a[0][0], n_asz[0][0], n_ad[0][0])"
   ]
  },
  {
   "cell_type": "code",
   "execution_count": 242,
   "id": "a6ee59ac-d1fd-4e67-9c0d-e7a2873b7144",
   "metadata": {},
   "outputs": [
    {
     "name": "stdout",
     "output_type": "stream",
     "text": [
      "0.0 3.0 0j 0j 0j\n"
     ]
    },
    {
     "name": "stderr",
     "output_type": "stream",
     "text": [
      "/Users/pethidine/opt/anaconda3/lib/python3.9/site-packages/matplotlib/cbook/__init__.py:1298: ComplexWarning: Casting complex values to real discards the imaginary part\n",
      "  return np.asarray(x, float)\n"
     ]
    },
    {
     "data": {
      "image/png": "[encoded data removed]",
      "text/plain": [
       "<Figure size 432x288 with 1 Axes>"
      ]
     },
     "metadata": {
      "needs_background": "light"
     },
     "output_type": "display_data"
    }
   ],
   "source": [
    "plt.plot(tlist, (ea*eadsz + ead*easz + eaad*esz - 2*ea*ead*esz), label='me mean aadsz')\n",
    "print(eaad[0]-1, esz[0], ea[0], easz[0], ead[0])"
   ]
  },
  {
   "cell_type": "code",
   "execution_count": 259,
   "id": "762a2fa1-c0fd-454b-bee0-309896c13495",
   "metadata": {},
   "outputs": [
    {
     "name": "stderr",
     "output_type": "stream",
     "text": [
      "/Users/pethidine/opt/anaconda3/lib/python3.9/site-packages/matplotlib/cbook/__init__.py:1298: ComplexWarning: Casting complex values to real discards the imaginary part\n",
      "  return np.asarray(x, float)\n",
      "/Users/pethidine/opt/anaconda3/lib/python3.9/site-packages/matplotlib/cbook/__init__.py:1298: ComplexWarning: Casting complex values to real discards the imaginary part\n",
      "  return np.asarray(x, float)\n"
     ]
    },
    {
     "data": {
      "text/plain": [
       "<matplotlib.legend.Legend at 0x7fe497dd6f40>"
      ]
     },
     "execution_count": 259,
     "metadata": {},
     "output_type": "execute_result"
    },
    {
     "data": {
      "image/png": "[encoded data removed]",
      "text/plain": [
       "<Figure size 432x288 with 1 Axes>"
      ]
     },
     "metadata": {
      "needs_background": "light"
     },
     "output_type": "display_data"
    }
   ],
   "source": [
    "plt.plot(5*n_asp[index],label = 'mean')\n",
    "plt.plot(easp, label = 'exact')\n",
    "plt.legend()"
   ]
  },
  {
   "cell_type": "code",
   "execution_count": null,
   "id": "4b7d515f-93ca-411b-a1b9-e199cedd52b1",
   "metadata": {},
   "outputs": [],
   "source": []
  }
 ],
 "metadata": {
  "kernelspec": {
   "display_name": "Python 3 (ipykernel)",
   "language": "python",
   "name": "python3"
  },
  "language_info": {
   "codemirror_mode": {
    "name": "ipython",
    "version": 3
   },
   "file_extension": ".py",
   "mimetype": "text/x-python",
   "name": "python",
   "nbconvert_exporter": "python",
   "pygments_lexer": "ipython3",
   "version": "3.9.13"
  },
  "toc-autonumbering": true,
  "toc-showmarkdowntxt": true
 },
 "nbformat": 4,
 "nbformat_minor": 5
}
